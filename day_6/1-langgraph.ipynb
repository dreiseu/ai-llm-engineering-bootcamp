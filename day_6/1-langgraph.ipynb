{
  "cells": [
    {
      "cell_type": "markdown",
      "metadata": {
        "id": "gJXW_DgiSebM"
      },
      "source": [
        "# LangGraph and LangSmith - Agentic RAG Powered by LangChain\n",
        "\n",
        "In the following notebook we'll complete the following tasks:\n",
        "\n",
        "- 🤝 Breakout Room #1:\n",
        "  1. Install required libraries\n",
        "  2. Set Environment Variables\n",
        "  3. Creating our Tool Belt\n",
        "  4. Creating Our State\n",
        "  5. Creating and Compiling A Graph!\n",
        "\n",
        "- 🤝 Breakout Room #2:\n",
        "  1. Evaluating the LangGraph Application with LangSmith\n",
        "  2. Adding Helpfulness Check and \"Loop\" Limits\n",
        "  3. LangGraph for the \"Patterns\" of GenAI"
      ]
    },
    {
      "cell_type": "markdown",
      "metadata": {
        "id": "djQ3nRAgoF67"
      },
      "source": [
        "# 🤝 Breakout Room #1"
      ]
    },
    {
      "cell_type": "markdown",
      "metadata": {
        "id": "e7pQDUhUnIo8"
      },
      "source": [
        "## Part 1: LangGraph - Building Cyclic Applications with LangChain\n",
        "\n",
        "LangGraph is a tool that leverages LangChain Expression Language to build coordinated multi-actor and stateful applications that includes cyclic behaviour.\n",
        "\n",
        "### Why Cycles?\n",
        "\n",
        "In essence, we can think of a cycle in our graph as a more robust and customizable loop. It allows us to keep our application agent-forward while still giving the powerful functionality of traditional loops.\n",
        "\n",
        "Due to the inclusion of cycles over loops, we can also compose rather complex flows through our graph in a much more readable and natural fashion. Effectively allowing us to recreate application flowcharts in code in an almost 1-to-1 fashion.\n",
        "\n",
        "### Why LangGraph?\n",
        "\n",
        "Beyond the agent-forward approach - we can easily compose and combine traditional \"DAG\" (directed acyclic graph) chains with powerful cyclic behaviour due to the tight integration with LCEL. This means it's a natural extension to LangChain's core offerings!"
      ]
    },
    {
      "cell_type": "markdown",
      "metadata": {
        "id": "3_fLDElOVoop"
      },
      "source": [
        "## Task 1:  Dependencies\n"
      ]
    },
    {
      "cell_type": "markdown",
      "metadata": {
        "id": "wujPjGJuoPwg"
      },
      "source": [
        "## Task 2: Environment Variables\n",
        "\n",
        "We'll want to set both our OpenAI API key and our LangSmith environment variables."
      ]
    },
    {
      "cell_type": "code",
      "execution_count": 1,
      "metadata": {
        "colab": {
          "base_uri": "https://localhost:8080/"
        },
        "id": "Jdh8CoVWHRvs",
        "outputId": "3fa78560-393c-4ee5-b871-9886bf0d70f4"
      },
      "outputs": [],
      "source": [
        "import os\n",
        "import getpass\n",
        "\n",
        "os.environ[\"OPENAI_API_KEY\"] = getpass.getpass(\"OpenAI API Key:\")"
      ]
    },
    {
      "cell_type": "code",
      "execution_count": 2,
      "metadata": {
        "colab": {
          "base_uri": "https://localhost:8080/"
        },
        "id": "Jkla2fpx28QK",
        "outputId": "52d7ad22-fcb1-4abe-853b-216c55a12650"
      },
      "outputs": [],
      "source": [
        "os.environ[\"TAVILY_API_KEY\"] = getpass.getpass(\"TAVILY_API_KEY\")"
      ]
    },
    {
      "cell_type": "code",
      "execution_count": 3,
      "metadata": {
        "colab": {
          "base_uri": "https://localhost:8080/"
        },
        "id": "Nv0glIDyHmRt",
        "outputId": "b69df90a-b4e1-4ddb-9de0-882d98b68ab2"
      },
      "outputs": [],
      "source": [
        "from uuid import uuid4\n",
        "\n",
        "os.environ[\"LANGCHAIN_TRACING_V2\"] = \"true\"\n",
        "os.environ[\"LANGCHAIN_PROJECT\"] = f\"PSI AIE6 - LangGraph - {uuid4().hex[0:8]}\"\n",
        "os.environ[\"LANGCHAIN_API_KEY\"] = getpass.getpass(\"LangSmith API Key: \")"
      ]
    },
    {
      "cell_type": "markdown",
      "metadata": {
        "id": "sBRyQmEAVzua"
      },
      "source": [
        "## Task 3: Creating our Tool Belt\n",
        "\n",
        "As is usually the case, we'll want to equip our agent with a toolbelt to help answer questions and add external knowledge.\n",
        "\n",
        "There's a tonne of tools in the [LangChain Community Repo](https://github.com/langchain-ai/langchain-community/tree/main/libs/community) but we'll stick to a couple just so we can observe the cyclic nature of LangGraph in action!\n",
        "\n",
        "We'll leverage:\n",
        "\n",
        "- [Tavily Search Results](https://github.com/langchain-ai/langchain-community/blob/main/libs/community/langchain_community/tools/tavily_search/tool.py)\n",
        "- [Arxiv](https://github.com/langchain-ai/langchain-community/blob/main/libs/community/langchain_community/tools/arxiv/tool.py)"
      ]
    },
    {
      "cell_type": "markdown",
      "metadata": {
        "id": "2k6n_Dob2F46"
      },
      "source": [
        "#### 🏗️ Activity #1:\n",
        "\n",
        "Please add the tools to use into our toolbelt.\n",
        "\n",
        "> NOTE: Each tool in our toolbelt should be a method."
      ]
    },
    {
      "cell_type": "code",
      "execution_count": 4,
      "metadata": {
        "id": "lAxaSvlfIeOg"
      },
      "outputs": [
        {
          "name": "stderr",
          "output_type": "stream",
          "text": [
            "C:\\Users\\Andrei\\AppData\\Local\\Temp\\ipykernel_10416\\1203815797.py:4: LangChainDeprecationWarning: The class `TavilySearchResults` was deprecated in LangChain 0.3.25 and will be removed in 1.0. An updated version of the class exists in the :class:`~langchain-tavily package and should be used instead. To use it run `pip install -U :class:`~langchain-tavily` and import as `from :class:`~langchain_tavily import TavilySearch``.\n",
            "  tavily_tool = TavilySearchResults(max_results=5)\n"
          ]
        }
      ],
      "source": [
        "from langchain_community.tools.tavily_search import TavilySearchResults\n",
        "from langchain_community.tools.arxiv.tool import ArxivQueryRun\n",
        "\n",
        "tavily_tool = TavilySearchResults(max_results=5)\n",
        "\n",
        "tool_belt = [\n",
        "    tavily_tool,\n",
        "    ArxivQueryRun(),\n",
        "]"
      ]
    },
    {
      "cell_type": "markdown",
      "metadata": {
        "id": "VI-C669ZYVI5"
      },
      "source": [
        "### Model\n",
        "\n",
        "Now we can set-up our model! We'll leverage the familiar OpenAI model suite for this example - but it's not *necessary* to use with LangGraph. LangGraph supports all models - though you might not find success with smaller models - as such, they recommend you stick with:\n",
        "\n",
        "- OpenAI's GPT-3.5 and GPT-4\n",
        "- Anthropic's Claude\n",
        "- Google's Gemini\n",
        "\n",
        "> NOTE: Because we're leveraging the OpenAI function calling API - we'll need to use OpenAI *for this specific example* (or any other service that exposes an OpenAI-style function calling API."
      ]
    },
    {
      "cell_type": "code",
      "execution_count": 5,
      "metadata": {
        "id": "QkNS8rNZJs4z"
      },
      "outputs": [],
      "source": [
        "from langchain_openai import ChatOpenAI\n",
        "\n",
        "model = ChatOpenAI(model=\"gpt-4.1-nano\", temperature=0)"
      ]
    },
    {
      "cell_type": "markdown",
      "metadata": {
        "id": "Ugkj3GzuZpQv"
      },
      "source": [
        "Now that we have our model set-up, let's \"put on the tool belt\", which is to say: We'll bind our LangChain formatted tools to the model in an OpenAI function calling format."
      ]
    },
    {
      "cell_type": "code",
      "execution_count": 6,
      "metadata": {
        "id": "4OdMqFafZ_0V"
      },
      "outputs": [],
      "source": [
        "model = model.bind_tools(tool_belt)"
      ]
    },
    {
      "cell_type": "markdown",
      "metadata": {
        "id": "ERzuGo6W18Lr"
      },
      "source": [
        "<div style=\"background-color: #204B8E; color: white; padding: 10px; border-radius: 5px;\">\n",
        "\n",
        "#### ❓ Question #1:\n",
        "\n",
        "How does the model determine which tool to use?\n",
        "\n",
        "</div>"
      ]
    },
    {
      "cell_type": "markdown",
      "metadata": {},
      "source": [
        "<div style=\"background-color: #204B8E; color: white; padding: 10px; border-radius: 5px;\">\n",
        "\n",
        "### Answer\n",
        "\n",
        "The model determines which tool to use through OpenAI's function calling mechanism. When binding the tools to the model using the bind_tools() function, the model receives tool descriptions along with the user's query. The LLM then analyzes the query and determines which tools are most appropriate based on tool descriptions, query context, function calling training, and parameter matching.\n",
        "\n",
        "</div>"
      ]
    },
    {
      "cell_type": "markdown",
      "metadata": {
        "id": "_296Ub96Z_H8"
      },
      "source": [
        "## Task 4: Putting the State in Stateful\n",
        "\n",
        "Earlier we used this phrasing:\n",
        "\n",
        "`coordinated multi-actor and stateful applications`\n",
        "\n",
        "So what does that \"stateful\" mean?\n",
        "\n",
        "To put it simply - we want to have some kind of object which we can pass around our application that holds information about what the current situation (state) is. Since our system will be constructed of many parts moving in a coordinated fashion - we want to be able to ensure we have some commonly understood idea of that state.\n",
        "\n",
        "LangGraph leverages a `StatefulGraph` which uses an `AgentState` object to pass information between the various nodes of the graph.\n",
        "\n",
        "There are more options than what we'll see below - but this `AgentState` object is one that is stored in a `TypedDict` with the key `messages` and the value is a `Sequence` of `BaseMessages` that will be appended to whenever the state changes.\n",
        "\n",
        "Let's think about a simple example to help understand exactly what this means (we'll simplify a great deal to try and clearly communicate what state is doing):\n",
        "\n",
        "1. We initialize our state object:\n",
        "  - `{\"messages\" : []}`\n",
        "2. Our user submits a query to our application.\n",
        "  - New State: `HumanMessage(#1)`\n",
        "  - `{\"messages\" : [HumanMessage(#1)}`\n",
        "3. We pass our state object to an Agent node which is able to read the current state. It will use the last `HumanMessage` as input. It gets some kind of output which it will add to the state.\n",
        "  - New State: `AgentMessage(#1, additional_kwargs {\"function_call\" : \"WebSearchTool\"})`\n",
        "  - `{\"messages\" : [HumanMessage(#1), AgentMessage(#1, ...)]}`\n",
        "4. We pass our state object to a \"conditional node\" (more on this later) which reads the last state to determine if we need to use a tool - which it can determine properly because of our provided object!"
      ]
    },
    {
      "cell_type": "code",
      "execution_count": 7,
      "metadata": {
        "id": "mxL9b_NZKUdL"
      },
      "outputs": [],
      "source": [
        "from typing import TypedDict, Annotated\n",
        "from langgraph.graph.message import add_messages\n",
        "import operator\n",
        "from langchain_core.messages import BaseMessage\n",
        "\n",
        "class AgentState(TypedDict):\n",
        "  messages: Annotated[list, add_messages]"
      ]
    },
    {
      "cell_type": "markdown",
      "metadata": {
        "id": "vWsMhfO9grLu"
      },
      "source": [
        "## Task 5: It's Graphing Time!\n",
        "\n",
        "Now that we have state, and we have tools, and we have an LLM - we can finally start making our graph!\n",
        "\n",
        "Let's take a second to refresh ourselves about what a graph is in this context.\n",
        "\n",
        "Graphs, also called networks in some circles, are a collection of connected objects.\n",
        "\n",
        "The objects in question are typically called nodes, or vertices, and the connections are called edges.\n",
        "\n",
        "Let's look at a simple graph.\n",
        "\n",
        "![image](https://i.imgur.com/2NFLnIc.png)\n",
        "\n",
        "Here, we're using the coloured circles to represent the nodes and the yellow lines to represent the edges. In this case, we're looking at a fully connected graph - where each node is connected by an edge to each other node.\n",
        "\n",
        "If we were to think about nodes in the context of LangGraph - we would think of a function, or an LCEL runnable.\n",
        "\n",
        "If we were to think about edges in the context of LangGraph - we might think of them as \"paths to take\" or \"where to pass our state object next\".\n",
        "\n",
        "Let's create some nodes and expand on our diagram.\n",
        "\n",
        "> NOTE: Due to the tight integration with LCEL - we can comfortably create our nodes in an async fashion!"
      ]
    },
    {
      "cell_type": "code",
      "execution_count": 8,
      "metadata": {
        "id": "91flJWtZLUrl"
      },
      "outputs": [],
      "source": [
        "from langgraph.prebuilt import ToolNode\n",
        "\n",
        "def call_model(state):\n",
        "  messages = state[\"messages\"]\n",
        "  response = model.invoke(messages)\n",
        "  return {\"messages\" : [response]}\n",
        "\n",
        "tool_node = ToolNode(tool_belt)"
      ]
    },
    {
      "cell_type": "markdown",
      "metadata": {
        "id": "2bwR7MgWj3Wg"
      },
      "source": [
        "Now we have two total nodes. We have:\n",
        "\n",
        "- `call_model` is a node that will...well...call the model\n",
        "- `tool_node` is a node which can call a tool\n",
        "\n",
        "Let's start adding nodes! We'll update our diagram along the way to keep track of what this looks like!\n"
      ]
    },
    {
      "cell_type": "code",
      "execution_count": 9,
      "metadata": {
        "colab": {
          "base_uri": "https://localhost:8080/"
        },
        "id": "_vF4_lgtmQNo",
        "outputId": "a4384377-8f7a-415f-be1b-fee6169cb101"
      },
      "outputs": [
        {
          "data": {
            "text/plain": [
              "<langgraph.graph.state.StateGraph at 0x1e3e6282120>"
            ]
          },
          "execution_count": 9,
          "metadata": {},
          "output_type": "execute_result"
        }
      ],
      "source": [
        "from langgraph.graph import StateGraph, END\n",
        "\n",
        "uncompiled_graph = StateGraph(AgentState)\n",
        "\n",
        "uncompiled_graph.add_node(\"agent\", call_model)\n",
        "uncompiled_graph.add_node(\"action\", tool_node)"
      ]
    },
    {
      "cell_type": "markdown",
      "metadata": {
        "id": "b8CjRlbVmRpW"
      },
      "source": [
        "Let's look at what we have so far:\n",
        "\n",
        "![image](https://i.imgur.com/md7inqG.png)"
      ]
    },
    {
      "cell_type": "markdown",
      "metadata": {
        "id": "uaXHpPeSnOWC"
      },
      "source": [
        "Next, we'll add our entrypoint. All our entrypoint does is indicate which node is called first."
      ]
    },
    {
      "cell_type": "code",
      "execution_count": 10,
      "metadata": {
        "colab": {
          "base_uri": "https://localhost:8080/"
        },
        "id": "YGCbaYqRnmiw",
        "outputId": "5351807c-2ac7-4316-a3a3-878abeacd114"
      },
      "outputs": [
        {
          "data": {
            "text/plain": [
              "<langgraph.graph.state.StateGraph at 0x1e3e6282120>"
            ]
          },
          "execution_count": 10,
          "metadata": {},
          "output_type": "execute_result"
        }
      ],
      "source": [
        "uncompiled_graph.set_entry_point(\"agent\")"
      ]
    },
    {
      "cell_type": "markdown",
      "metadata": {
        "id": "BUsfGoSpoF9U"
      },
      "source": [
        "![image](https://i.imgur.com/wNixpJe.png)"
      ]
    },
    {
      "cell_type": "markdown",
      "metadata": {
        "id": "0Q_pQgHmoW0M"
      },
      "source": [
        "Now we want to build a \"conditional edge\" which will use the output state of a node to determine which path to follow.\n",
        "\n",
        "We can help conceptualize this by thinking of our conditional edge as a conditional in a flowchart!\n",
        "\n",
        "Notice how our function simply checks if there is a \"function_call\" kwarg present.\n",
        "\n",
        "Then we create an edge where the origin node is our agent node and our destination node is *either* the action node or the END (finish the graph).\n",
        "\n",
        "It's important to highlight that the dictionary passed in as the third parameter (the mapping) should be created with the possible outputs of our conditional function in mind. In this case `should_continue` outputs either `\"end\"` or `\"continue\"` which are subsequently mapped to the action node or the END node."
      ]
    },
    {
      "cell_type": "code",
      "execution_count": 11,
      "metadata": {
        "colab": {
          "base_uri": "https://localhost:8080/"
        },
        "id": "1BZgb81VQf9o",
        "outputId": "73a07c15-5f0b-40f2-b033-38b57d056dd8"
      },
      "outputs": [
        {
          "data": {
            "text/plain": [
              "<langgraph.graph.state.StateGraph at 0x1e3e6282120>"
            ]
          },
          "execution_count": 11,
          "metadata": {},
          "output_type": "execute_result"
        }
      ],
      "source": [
        "def should_continue(state):\n",
        "  last_message = state[\"messages\"][-1]\n",
        "\n",
        "  if last_message.tool_calls:\n",
        "    return \"action\"\n",
        "\n",
        "  return END\n",
        "\n",
        "uncompiled_graph.add_conditional_edges(\n",
        "    \"agent\",\n",
        "    should_continue\n",
        ")"
      ]
    },
    {
      "cell_type": "markdown",
      "metadata": {
        "id": "-Cvhcf4jp0Ce"
      },
      "source": [
        "Let's visualize what this looks like.\n",
        "\n",
        "![image](https://i.imgur.com/8ZNwKI5.png)"
      ]
    },
    {
      "cell_type": "markdown",
      "metadata": {
        "id": "yKCjWJCkrJb9"
      },
      "source": [
        "Finally, we can add our last edge which will connect our action node to our agent node. This is because we *always* want our action node (which is used to call our tools) to return its output to our agent!"
      ]
    },
    {
      "cell_type": "code",
      "execution_count": 12,
      "metadata": {
        "colab": {
          "base_uri": "https://localhost:8080/"
        },
        "id": "UvcgbHf1rIXZ",
        "outputId": "45d4bdd6-d6bb-4a1d-bb79-cad43c130bf2"
      },
      "outputs": [
        {
          "data": {
            "text/plain": [
              "<langgraph.graph.state.StateGraph at 0x1e3e6282120>"
            ]
          },
          "execution_count": 12,
          "metadata": {},
          "output_type": "execute_result"
        }
      ],
      "source": [
        "uncompiled_graph.add_edge(\"action\", \"agent\")"
      ]
    },
    {
      "cell_type": "markdown",
      "metadata": {
        "id": "EiWDwBQtrw7Z"
      },
      "source": [
        "Let's look at the final visualization.\n",
        "\n",
        "![image](https://i.imgur.com/NWO7usO.png)"
      ]
    },
    {
      "cell_type": "markdown",
      "metadata": {
        "id": "KYqDpErlsCsu"
      },
      "source": [
        "All that's left to do now is to compile our workflow - and we're off!"
      ]
    },
    {
      "cell_type": "code",
      "execution_count": 13,
      "metadata": {
        "id": "zt9-KS8DpzNx"
      },
      "outputs": [],
      "source": [
        "simple_agent_graph = uncompiled_graph.compile()"
      ]
    },
    {
      "cell_type": "markdown",
      "metadata": {
        "id": "xhNWIwBL1W4Q"
      },
      "source": [
        "<div style=\"background-color: #204B8E; color: white; padding: 10px; border-radius: 5px;\">\n",
        "\n",
        "#### ❓ Question #2:\n",
        "\n",
        "Is there any specific limit to how many times we can cycle?\n",
        "\n",
        "If not, how could we impose a limit to the number of cycles?\n",
        "\n",
        "</div>"
      ]
    },
    {
      "cell_type": "markdown",
      "metadata": {},
      "source": [
        "<div style=\"background-color: #204B8E; color: white; padding: 10px; border-radius: 5px;\">\n",
        "\n",
        "### Answer\n",
        "\n",
        "There's no limit to cycling in LangGraph by default. It could run indefinitely. However, we can impose a limit to the number of cycles by including a conditional statement wherein we'll create a message count limit."
      ]
    },
    {
      "cell_type": "markdown",
      "metadata": {
        "id": "VEYcTShCsPaa"
      },
      "source": [
        "## Using Our Graph\n",
        "\n",
        "Now that we've created and compiled our graph - we can call it *just as we'd call any other* `Runnable`!\n",
        "\n",
        "Let's try out a few examples to see how it fairs:"
      ]
    },
    {
      "cell_type": "code",
      "execution_count": 14,
      "metadata": {
        "colab": {
          "base_uri": "https://localhost:8080/"
        },
        "id": "Qn4n37PQRPII",
        "outputId": "5eeedfae-089d-496e-e71f-071939fa5832"
      },
      "outputs": [
        {
          "name": "stdout",
          "output_type": "stream",
          "text": [
            "Receiving update from node: 'agent'\n",
            "[AIMessage(content='', additional_kwargs={'tool_calls': [{'id': 'call_EABnmJmCcGNGcFIwRyKKgiSJ', 'function': {'arguments': '{\"query\":\"current captain of the Winnipeg Jets\"}', 'name': 'tavily_search_results_json'}, 'type': 'function'}], 'refusal': None}, response_metadata={'token_usage': {'completion_tokens': 23, 'prompt_tokens': 162, 'total_tokens': 185, 'completion_tokens_details': {'accepted_prediction_tokens': 0, 'audio_tokens': 0, 'reasoning_tokens': 0, 'rejected_prediction_tokens': 0}, 'prompt_tokens_details': {'audio_tokens': 0, 'cached_tokens': 0}}, 'model_name': 'gpt-4.1-nano-2025-04-14', 'system_fingerprint': 'fp_38343a2f8f', 'id': 'chatcmpl-C2WaN9DN8F87PrcHYrNnyNUCEaYsJ', 'service_tier': 'default', 'finish_reason': 'tool_calls', 'logprobs': None}, id='run--4247e840-90ae-4d2e-aa21-1a479515b89b-0', tool_calls=[{'name': 'tavily_search_results_json', 'args': {'query': 'current captain of the Winnipeg Jets'}, 'id': 'call_EABnmJmCcGNGcFIwRyKKgiSJ', 'type': 'tool_call'}], usage_metadata={'input_tokens': 162, 'output_tokens': 23, 'total_tokens': 185, 'input_token_details': {'audio': 0, 'cache_read': 0}, 'output_token_details': {'audio': 0, 'reasoning': 0}})]\n",
            "\n",
            "\n",
            "\n",
            "Receiving update from node: 'action'\n",
            "[ToolMessage(content='[{\"title\": \"Winnipeg Jets - Wikipedia\", \"url\": \"https://en.wikipedia.org/wiki/Winnipeg_Jets\", \"content\": \"|  v  t  e  Winnipeg Jets | |\\\\n| --- | --- |\\\\n|  Formerly the Atlanta Thrashers  Founded in 1999  Based in Winnipeg, Manitoba | |\\\\n| Franchise |  Team  General managers  Coaches  Players  Captains  Draft picks   + expansion draft  Seasons  Current season |\\\\n| History |  Records  Award winners  Broadcasters |\\\\n| Personnel | Owner(s)  True North Sports & Entertainment (Mark Chipman, chairman)  General manager  Kevin Cheveldayoff  Head coach  Scott Arniel  Team captain  Adam Lowry  Current roster | [...] the draft lottery, which they used to select Finnish prospect Patrik Laine. Later that summer, the team appointed Blake Wheeler as their new captain. [...] In the 2021–22 season, the Jets finished a disappointing sixth in the Central Division, missing the playoffs. At the start of the 2022–23 season, forward Blake Wheeler was stripped of the team captaincy. The Jets then clinched the 2023 playoffs at the end of the regular season, but were defeated by the eventual Stanley Cup champion Vegas Golden Knights in five games in the first round. Before the start of the 2023–24 season, forward Adam Lowry was appointed team captain. The Jets then clinched\", \"score\": 0.885404}, {\"title\": \"Adam Lowry - Wikipedia\", \"url\": \"https://en.wikipedia.org/wiki/Adam_Lowry\", \"content\": \"| Awards and achievements | | |\\\\n| --- | --- | --- |\\\\n| Preceded by Stefan Elliott | Winner of the Daryl K. (Doc) Seaman Trophy_Seaman_Trophy \\\\\"Daryl K. (Doc) Seaman Trophy\\\\\")  2010 | Succeeded by Colin Smith \\\\\"Colin Smith (ice hockey)\\\\\") |\\\\n| Sporting positions | | |\\\\n| Preceded by Blake Wheeler | Winnipeg Jets captain  2023–present | Incumbent | [...] Adam Lowry (born March 29, 1993) is an American-born Canadian professional ice hockey centre \\\\\"Center (ice hockey)\\\\\") and  captain \\\\\"Captain (ice hockey)\\\\\") of the Winnipeg Jets of the National Hockey League (NHL).\\\\n\\\\n## Early life [...] Entering the 2023–24 season, Lowry was named captain of the Jets on September 12, 2023. He became the third in the team\\'s history since relocating to Winnipeg, and the tenth overall in franchise history.\\\\n\\\\nOn May 4, 2025, Lowry scored at 16:10 in double overtime to win 4-3 against the St. Louis Blues in Game 7 of the Jets-Blues first round playoff series.\\\\n\\\\n## Personal life\", \"score\": 0.8482825}, {\"title\": \"Adam Lowry named Jets captain | Winnipeg Jets - NHL.com\", \"url\": \"https://www.nhl.com/jets/news/adam-lowry-named-jets-captain\", \"content\": \"That honour was given to Winnipeg Jet forward Adam Lowry officially Tuesday morning as he becomes the third captain in franchise history since the team moved here from Atlanta. He follows Andrew Ladd and Blake Wheeler who served as captain for five and six years respectively.\\\\n\\\\nâ\\x80\\x9cWhen I found out, I was pretty excited, almost a little speechless. Itâ\\x80\\x99s something growing up you kind of can dream about and something that seems almost unattainable,â\\x80\\x9d said Lowry. [...] â\\x80\\x9cHeâ\\x80\\x99s a true professional, he has total respect from every player on the team, every player around the league and certainly from the coaching staff as well. We just feel at this point itâ\\x80\\x99s the right time to name Adam as our captain.â\\x80\\x9d [...] â\\x80\\x9cGetting to be a captain of a Canadian NHL team is pretty special and something Iâ\\x80\\x99m really looking forward too.â\\x80\\x9d\", \"score\": 0.8449346}, {\"title\": \"Lowry named Jets captain, replaces Wheeler | NHL.com\", \"url\": \"https://www.nhl.com/news/adam-lowry-named-winnipeg-captain\", \"content\": \"NHL logo\\\\nNHL logo\\\\n\\\\n# Lowry named Jets captain, replaces Wheeler\\\\n\\\\n30-year-old forward entering 10th season with Winnipeg\\\\n\\\\nLowry_Jets\\\\n\\\\nAdam Lowry was named captain of the Winnipeg Jets on Tuesday.\\\\n\\\\nThe 30-year-old forward was selected by the Jets in the third round (No. 67) of the 2011 NHL Draft and has played his entire nine-season NHL career with Winnipeg. [...] Lowry replaces Blake Wheeler, who was removed as captain Sept. 16, 2022, and signed with the New York Rangers after having his contract bought out this offseason. The Jets opted for three alternate captains last season; Lowry, forward Mark Scheifele and defenseman Josh Morrissey. Coach Rick Bowness said Scheifele and Morrissey will remain alternate captains. [...] Lowry said he\\'s learned from the captains he\\'s played with in Winnipeg, Wheeler and Andrew Ladd, and believes the important thing is staying true to the player he\\'s always been.\", \"score\": 0.84027237}, {\"title\": \"Jets sign Toews for leadership, add Nyquist, Pearson for depth\", \"url\": \"https://www.nhl.com/news/winnipeg-jets-roster-changes-for-2025-26-season\", \"content\": \"games for the Vegas Golden Knights. Pearson could find a role in Winnipeg\\'s middle six. The need there will be magnified. Jets captain and center Adam Lowry is expected to miss the start of the season after having hip surgery May 27, with a 5-6 month timeline for recovery.\", \"score\": 0.78014404}]', name='tavily_search_results_json', id='72f99b32-1949-4fb9-847e-7e76e8e1c7a5', tool_call_id='call_EABnmJmCcGNGcFIwRyKKgiSJ', artifact={'query': 'current captain of the Winnipeg Jets', 'follow_up_questions': None, 'answer': None, 'images': [], 'results': [{'url': 'https://en.wikipedia.org/wiki/Winnipeg_Jets', 'title': 'Winnipeg Jets - Wikipedia', 'content': '|  v  t  e  Winnipeg Jets | |\\n| --- | --- |\\n|  Formerly the Atlanta Thrashers  Founded in 1999  Based in Winnipeg, Manitoba | |\\n| Franchise |  Team  General managers  Coaches  Players  Captains  Draft picks   + expansion draft  Seasons  Current season |\\n| History |  Records  Award winners  Broadcasters |\\n| Personnel | Owner(s)  True North Sports & Entertainment (Mark Chipman, chairman)  General manager  Kevin Cheveldayoff  Head coach  Scott Arniel  Team captain  Adam Lowry  Current roster | [...] the draft lottery, which they used to select Finnish prospect Patrik Laine. Later that summer, the team appointed Blake Wheeler as their new captain. [...] In the 2021–22 season, the Jets finished a disappointing sixth in the Central Division, missing the playoffs. At the start of the 2022–23 season, forward Blake Wheeler was stripped of the team captaincy. The Jets then clinched the 2023 playoffs at the end of the regular season, but were defeated by the eventual Stanley Cup champion Vegas Golden Knights in five games in the first round. Before the start of the 2023–24 season, forward Adam Lowry was appointed team captain. The Jets then clinched', 'score': 0.885404, 'raw_content': None}, {'url': 'https://en.wikipedia.org/wiki/Adam_Lowry', 'title': 'Adam Lowry - Wikipedia', 'content': '| Awards and achievements | | |\\n| --- | --- | --- |\\n| Preceded by Stefan Elliott | Winner of the Daryl K. (Doc) Seaman Trophy_Seaman_Trophy \"Daryl K. (Doc) Seaman Trophy\")  2010 | Succeeded by Colin Smith \"Colin Smith (ice hockey)\") |\\n| Sporting positions | | |\\n| Preceded by Blake Wheeler | Winnipeg Jets captain  2023–present | Incumbent | [...] Adam Lowry (born March 29, 1993) is an American-born Canadian professional ice hockey centre \"Center (ice hockey)\") and  captain \"Captain (ice hockey)\") of the Winnipeg Jets of the National Hockey League (NHL).\\n\\n## Early life [...] Entering the 2023–24 season, Lowry was named captain of the Jets on September 12, 2023. He became the third in the team\\'s history since relocating to Winnipeg, and the tenth overall in franchise history.\\n\\nOn May 4, 2025, Lowry scored at 16:10 in double overtime to win 4-3 against the St. Louis Blues in Game 7 of the Jets-Blues first round playoff series.\\n\\n## Personal life', 'score': 0.8482825, 'raw_content': None}, {'url': 'https://www.nhl.com/jets/news/adam-lowry-named-jets-captain', 'title': 'Adam Lowry named Jets captain | Winnipeg Jets - NHL.com', 'content': 'That honour was given to Winnipeg Jet forward Adam Lowry officially Tuesday morning as he becomes the third captain in franchise history since the team moved here from Atlanta. He follows Andrew Ladd and Blake Wheeler who served as captain for five and six years respectively.\\n\\nâ\\x80\\x9cWhen I found out, I was pretty excited, almost a little speechless. Itâ\\x80\\x99s something growing up you kind of can dream about and something that seems almost unattainable,â\\x80\\x9d said Lowry. [...] â\\x80\\x9cHeâ\\x80\\x99s a true professional, he has total respect from every player on the team, every player around the league and certainly from the coaching staff as well. We just feel at this point itâ\\x80\\x99s the right time to name Adam as our captain.â\\x80\\x9d [...] â\\x80\\x9cGetting to be a captain of a Canadian NHL team is pretty special and something Iâ\\x80\\x99m really looking forward too.â\\x80\\x9d', 'score': 0.8449346, 'raw_content': None}, {'url': 'https://www.nhl.com/news/adam-lowry-named-winnipeg-captain', 'title': 'Lowry named Jets captain, replaces Wheeler | NHL.com', 'content': \"NHL logo\\nNHL logo\\n\\n# Lowry named Jets captain, replaces Wheeler\\n\\n30-year-old forward entering 10th season with Winnipeg\\n\\nLowry_Jets\\n\\nAdam Lowry was named captain of the Winnipeg Jets on Tuesday.\\n\\nThe 30-year-old forward was selected by the Jets in the third round (No. 67) of the 2011 NHL Draft and has played his entire nine-season NHL career with Winnipeg. [...] Lowry replaces Blake Wheeler, who was removed as captain Sept. 16, 2022, and signed with the New York Rangers after having his contract bought out this offseason. The Jets opted for three alternate captains last season; Lowry, forward Mark Scheifele and defenseman Josh Morrissey. Coach Rick Bowness said Scheifele and Morrissey will remain alternate captains. [...] Lowry said he's learned from the captains he's played with in Winnipeg, Wheeler and Andrew Ladd, and believes the important thing is staying true to the player he's always been.\", 'score': 0.84027237, 'raw_content': None}, {'url': 'https://www.nhl.com/news/winnipeg-jets-roster-changes-for-2025-26-season', 'title': 'Jets sign Toews for leadership, add Nyquist, Pearson for depth', 'content': \"games for the Vegas Golden Knights. Pearson could find a role in Winnipeg's middle six. The need there will be magnified. Jets captain and center Adam Lowry is expected to miss the start of the season after having hip surgery May 27, with a 5-6 month timeline for recovery.\", 'score': 0.78014404, 'raw_content': None}], 'response_time': 4.18})]\n",
            "\n",
            "\n",
            "\n",
            "Receiving update from node: 'agent'\n",
            "[AIMessage(content='The current captain of the Winnipeg Jets is Adam Lowry.', additional_kwargs={'refusal': None}, response_metadata={'token_usage': {'completion_tokens': 13, 'prompt_tokens': 1463, 'total_tokens': 1476, 'completion_tokens_details': {'accepted_prediction_tokens': 0, 'audio_tokens': 0, 'reasoning_tokens': 0, 'rejected_prediction_tokens': 0}, 'prompt_tokens_details': {'audio_tokens': 0, 'cached_tokens': 0}}, 'model_name': 'gpt-4.1-nano-2025-04-14', 'system_fingerprint': 'fp_38343a2f8f', 'id': 'chatcmpl-C2WaTeL97YwR81s7YPNMaU5NAxGlt', 'service_tier': 'default', 'finish_reason': 'stop', 'logprobs': None}, id='run--cd38d14e-9e33-4b0a-9292-9a90118a0762-0', usage_metadata={'input_tokens': 1463, 'output_tokens': 13, 'total_tokens': 1476, 'input_token_details': {'audio': 0, 'cache_read': 0}, 'output_token_details': {'audio': 0, 'reasoning': 0}})]\n",
            "\n",
            "\n",
            "\n"
          ]
        }
      ],
      "source": [
        "from langchain_core.messages import HumanMessage\n",
        "\n",
        "inputs = {\"messages\" : [HumanMessage(content=\"Who is the current captain of the Winnipeg Jets?\")]}\n",
        "\n",
        "async for chunk in simple_agent_graph.astream(inputs, stream_mode=\"updates\"):\n",
        "    for node, values in chunk.items():\n",
        "        print(f\"Receiving update from node: '{node}'\")\n",
        "        print(values[\"messages\"])\n",
        "        print(\"\\n\\n\")"
      ]
    },
    {
      "cell_type": "markdown",
      "metadata": {
        "id": "DBHnUtLSscRr"
      },
      "source": [
        "Let's look at what happened:\n",
        "\n",
        "1. Our state object was populated with our request\n",
        "2. The state object was passed into our entry point (agent node) and the agent node added an `AIMessage` to the state object and passed it along the conditional edge\n",
        "3. The conditional edge received the state object, found the \"tool_calls\" `additional_kwarg`, and sent the state object to the action node\n",
        "4. The action node added the response from the OpenAI function calling endpoint to the state object and passed it along the edge to the agent node\n",
        "5. The agent node added a response to the state object and passed it along the conditional edge\n",
        "6. The conditional edge received the state object, could not find the \"tool_calls\" `additional_kwarg` and passed the state object to END where we see it output in the cell above!\n",
        "\n",
        "Now let's look at an example that shows a multiple tool usage - all with the same flow!"
      ]
    },
    {
      "cell_type": "code",
      "execution_count": 33,
      "metadata": {
        "colab": {
          "base_uri": "https://localhost:8080/"
        },
        "id": "afv2BuEsV5JG",
        "outputId": "ff009536-d281-4a56-c126-9cd245352bfe"
      },
      "outputs": [
        {
          "name": "stdout",
          "output_type": "stream",
          "text": [
            "Receiving update from node: 'agent'\n",
            "[AIMessage(content='', additional_kwargs={'tool_calls': [{'id': 'call_A9b2IVs0KFpbo0ZL8Js1vYLG', 'function': {'arguments': '{\"query\": \"QLoRA\"}', 'name': 'arxiv'}, 'type': 'function'}, {'id': 'call_9CltnMjzezpKAMsDOCcrDzou', 'function': {'arguments': '{\"query\": \"latest Tweet by author of QLoRA\"}', 'name': 'tavily_search_results_json'}, 'type': 'function'}], 'refusal': None}, response_metadata={'token_usage': {'completion_tokens': 57, 'prompt_tokens': 176, 'total_tokens': 233, 'completion_tokens_details': {'accepted_prediction_tokens': 0, 'audio_tokens': 0, 'reasoning_tokens': 0, 'rejected_prediction_tokens': 0}, 'prompt_tokens_details': {'audio_tokens': 0, 'cached_tokens': 0}}, 'model_name': 'gpt-4.1-nano-2025-04-14', 'system_fingerprint': 'fp_38343a2f8f', 'id': 'chatcmpl-C2beh1IMJBZAgHHz2qLbrzC346MKO', 'service_tier': 'default', 'finish_reason': 'tool_calls', 'logprobs': None}, id='run--bacf279d-aade-4ec6-ba4f-b99abcdde095-0', tool_calls=[{'name': 'arxiv', 'args': {'query': 'QLoRA'}, 'id': 'call_A9b2IVs0KFpbo0ZL8Js1vYLG', 'type': 'tool_call'}, {'name': 'tavily_search_results_json', 'args': {'query': 'latest Tweet by author of QLoRA'}, 'id': 'call_9CltnMjzezpKAMsDOCcrDzou', 'type': 'tool_call'}], usage_metadata={'input_tokens': 176, 'output_tokens': 57, 'total_tokens': 233, 'input_token_details': {'audio': 0, 'cache_read': 0}, 'output_token_details': {'audio': 0, 'reasoning': 0}})]\n",
            "\n",
            "\n",
            "\n",
            "Receiving update from node: 'action'\n",
            "Tool Used: arxiv\n",
            "[ToolMessage(content='Published: 2023-05-23\\nTitle: QLoRA: Efficient Finetuning of Quantized LLMs\\nAuthors: Tim Dettmers, Artidoro Pagnoni, Ari Holtzman, Luke Zettlemoyer\\nSummary: We present QLoRA, an efficient finetuning approach that reduces memory usage\\nenough to finetune a 65B parameter model on a single 48GB GPU while preserving\\nfull 16-bit finetuning task performance. QLoRA backpropagates gradients through\\na frozen, 4-bit quantized pretrained language model into Low Rank\\nAdapters~(LoRA). Our best model family, which we name Guanaco, outperforms all\\nprevious openly released models on the Vicuna benchmark, reaching 99.3% of the\\nperformance level of ChatGPT while only requiring 24 hours of finetuning on a\\nsingle GPU. QLoRA introduces a number of innovations to save memory without\\nsacrificing performance: (a) 4-bit NormalFloat (NF4), a new data type that is\\ninformation theoretically optimal for normally distributed weights (b) double\\nquantization to reduce the average memory footprint by quantizing the\\nquantization constants, and (c) paged optimziers to manage memory spikes. We\\nuse QLoRA to finetune more than 1,000 models, providing a detailed analysis of\\ninstruction following and chatbot performance across 8 instruction datasets,\\nmultiple model types (LLaMA, T5), and model scales that would be infeasible to\\nrun with regular finetuning (e.g. 33B and 65B parameter models). Our results\\nshow that QLoRA finetuning on a small high-quality dataset leads to\\nstate-of-the-art results, even when using smaller models than the previous\\nSoTA. We provide a detailed analysis of chatbot performance based on both human\\nand GPT-4 evaluations showing that GPT-4 evaluations are a cheap and reasonable\\nalternative to human evaluation. Furthermore, we find that current chatbot\\nbenchmarks are not trustworthy to accurately evaluate the performance levels of\\nchatbots. A lemon-picked analysis demonstrates where Guanaco fails compared to\\nChatGPT. We release all of our models and code, including CUDA kernels for\\n4-bit training.\\n\\nPublished: 2024-05-27\\nTitle: Accurate LoRA-Finetuning Quantization of LLMs via Information Retention\\nAuthors: Haotong Qin, Xudong Ma, Xingyu Zheng, Xiaoyang Li, Yang Zhang, Shouda Liu, Jie Luo, Xianglong Liu, Michele Magno\\nSummary: The LoRA-finetuning quantization of LLMs has been extensively studied to\\nobtain accurate yet compact LLMs for deployment on resource-constrained\\nhardware. However, existing methods cause the quantized LLM to severely degrade\\nand even fail to benefit from the finetuning of LoRA. This paper proposes a\\nnovel IR-QLoRA for pushing quantized LLMs with LoRA to be highly accurate\\nthrough information retention. The proposed IR-QLoRA mainly relies on two\\ntechnologies derived from the perspective of unified information: (1)\\nstatistics-based Information Calibration Quantization allows the quantized\\nparameters of LLM to retain original information accurately; (2)\\nfinetuning-based Information Elastic Connection makes LoRA utilizes elastic\\nrepresentation transformation with diverse information. Comprehensive\\nexperiments show that IR-QLoRA can significantly improve accuracy across LLaMA\\nand LLaMA2 families under 2-4 bit-widths, e.g., 4- bit LLaMA-7B achieves 1.4%\\nimprovement on MMLU compared with the state-of-the-art methods. The significant\\nperformance gain requires only a tiny 0.31% additional time consumption,\\nrevealing the satisfactory efficiency of our IR-QLoRA. We highlight that\\nIR-QLoRA enjoys excellent versatility, compatible with various frameworks\\n(e.g., NormalFloat and Integer quantization) and brings general accuracy gains.\\nThe code is available at https://github.com/htqin/ir-qlora.\\n\\nPublished: 2025-02-05\\nTitle: Resource-Efficient & Effective Code Summarization\\nAuthors: Saima Afrin, Joseph Call, Khai-Nguyen Nguyen, Oscar Chaparro, Antonio Mastropaolo\\nSummary: Code Language Models (CLMs) have demonstrated high effectiveness in\\nautomating software engineering tasks such as bug fixing, code generation, and\\ncode documentation. This ', name='arxiv', id='3cd2883a-bc30-451c-a0e5-43110453c14f', tool_call_id='call_A9b2IVs0KFpbo0ZL8Js1vYLG'), ToolMessage(content='[{\"title\": \"Wing Lian (caseus) (@winglian) / X\", \"url\": \"https://x.com/winglian?lang=en\", \"content\": \"While QLoRA serves as an excellent entry point, as users gain expertise and tackle more sophisticated workloads, the performance ceiling of QLoRA becomes a\", \"score\": 0.3708637}, {\"title\": \"artidoro/qlora - Efficient Finetuning of Quantized LLMs - GitHub\", \"url\": \"https://github.com/artidoro/qlora\", \"content\": \"There was an error while loading. Please reload this page.\\\\n\\\\nThere was an error while loading. Please reload this page.\\\\n\\\\n### Stars\\\\n\\\\n### Watchers\\\\n\\\\n### Forks\\\\n\\\\n## Releases\\\\n\\\\n## Packages 0\\\\n\\\\n### Uh oh!\\\\n\\\\nThere was an error while loading. Please reload this page.\\\\n\\\\nThere was an error while loading. Please reload this page.\\\\n\\\\n## Contributors 16\\\\n\\\\n@artidoro\\\\n@TimDettmers\\\\n@tobi\\\\n@KKcorps\\\\n@Birch-san\\\\n@pmysl\\\\n@bubundas17\\\\n@abhilash1910\\\\n@Qubitium\\\\n@dameikle\\\\n@ranchlai\\\\n@steremma\\\\n@muelletm\\\\n@lhoestq\\\\n\\\\n## Languages [...] ## Latest commit\\\\n\\\\n## History\\\\n\\\\n## Repository files navigation\\\\n\\\\n# QLoRA: Efficient Finetuning of Quantized LLMs\\\\n\\\\n| Paper | Adapter Weights | Demo |\\\\n\\\\nThis repo supports the paper \\\\\"QLoRA: Efficient Finetuning of Quantized LLMs\\\\\", an effort to democratize access to LLM research.\\\\n\\\\nQLoRA uses bitsandbytes for quantization and is integrated with Hugging Face\\'s PEFT and transformers libraries. QLoRA was developed by members of the University of Washington\\'s UW NLP group.\\\\n\\\\n## Updates\\\\n\\\\n## Overview [...] You can specify the path to your dataset using the `--dataset` argument. If the `--dataset_format` argument is not set, it will default to the Alpaca format. Here are a few examples:\\\\n\\\\n`--dataset`\\\\n`--dataset_format`\\\\n\\\\n### Multi GPU\\\\n\\\\nMulti GPU training and inference work out-of-the-box with Hugging Face\\'s Accelerate. Note that the `per_device_train_batch_size` and `per_device_eval_batch_size` arguments are global batch sizes unlike what their name suggest.\", \"score\": 0.34873438}, {\"title\": \"[2305.14314] QLoRA: Efficient Finetuning of Quantized LLMs\", \"url\": \"https://arxiv.org/abs/2305.14314\", \"content\": \"close this message\\\\narXiv smileybones\\\\n\\\\n## arXiv Is Hiring a DevOps Engineer\\\\n\\\\nWork on one of the world\\'s most important websites and make an impact on open science.\\\\n\\\\nCornell University\\\\n\\\\narXiv Is Hiring a DevOps Engineer\\\\n\\\\narxiv logo\\\\n\\\\nHelp | Advanced Search\\\\n\\\\narXiv logo\\\\nCornell University Logo\\\\n\\\\n## quick links\\\\n\\\\n# Computer Science > Machine Learning\\\\n\\\\n# Title:QLoRA: Efficient Finetuning of Quantized LLMs [...] Both individuals and organizations that work with arXivLabs have embraced and accepted our values of openness, community, excellence, and user data privacy. arXiv is committed to these values and only works with partners that adhere to them.\\\\n\\\\nHave an idea for a project that will add value for arXiv\\'s community? Learn more about arXivLabs.\\\\n\\\\narXiv Operational Status   \\\\nGet status notifications via\\\\nemail\\\\nor slack [...] # Code, Data and Media Associated with this Article\\\\n\\\\n# Demos\\\\n\\\\n# Recommenders and Search Tools\\\\n\\\\n# arXivLabs: experimental projects with community collaborators\\\\n\\\\narXivLabs is a framework that allows collaborators to develop and share new arXiv features directly on our website.\", \"score\": 0.26234588}, {\"title\": \"#QLORA - Search / X\", \"url\": \"https://twitter.com/search?q=%23QLORA&src=hashtag_click\", \"content\": \"#LoRA vs #QLoRA for #FineTuning #LLM: LoRA is faster & cheaper to train, while QLoRA uses less memory & supports longer sequences & larger batches.\", \"score\": 0.23612009}, {\"title\": \"QLoRA: 4-bit finetuning of LLMs is here! With it comes Guanaco, a ...\", \"url\": \"https://www.reddit.com/r/LocalLLaMA/comments/13qrdj6/qlora_4bit_finetuning_of_llms_is_here_with_it/\", \"content\": \"QLoRA: 4-bit finetuning of LLMs is here! With it comes Guanaco, a chatbot on a single GPU, achieving 99% ChatGPT performance on the Vicuna\", \"score\": 0.18316986}]', name='tavily_search_results_json', id='72f835c4-4554-45d8-bd91-91f2bbeb6f3c', tool_call_id='call_9CltnMjzezpKAMsDOCcrDzou', artifact={'query': 'latest Tweet by author of QLoRA', 'follow_up_questions': None, 'answer': None, 'images': [], 'results': [{'url': 'https://x.com/winglian?lang=en', 'title': 'Wing Lian (caseus) (@winglian) / X', 'content': 'While QLoRA serves as an excellent entry point, as users gain expertise and tackle more sophisticated workloads, the performance ceiling of QLoRA becomes a', 'score': 0.3708637, 'raw_content': None}, {'url': 'https://github.com/artidoro/qlora', 'title': 'artidoro/qlora - Efficient Finetuning of Quantized LLMs - GitHub', 'content': 'There was an error while loading. Please reload this page.\\n\\nThere was an error while loading. Please reload this page.\\n\\n### Stars\\n\\n### Watchers\\n\\n### Forks\\n\\n## Releases\\n\\n## Packages 0\\n\\n### Uh oh!\\n\\nThere was an error while loading. Please reload this page.\\n\\nThere was an error while loading. Please reload this page.\\n\\n## Contributors 16\\n\\n@artidoro\\n@TimDettmers\\n@tobi\\n@KKcorps\\n@Birch-san\\n@pmysl\\n@bubundas17\\n@abhilash1910\\n@Qubitium\\n@dameikle\\n@ranchlai\\n@steremma\\n@muelletm\\n@lhoestq\\n\\n## Languages [...] ## Latest commit\\n\\n## History\\n\\n## Repository files navigation\\n\\n# QLoRA: Efficient Finetuning of Quantized LLMs\\n\\n| Paper | Adapter Weights | Demo |\\n\\nThis repo supports the paper \"QLoRA: Efficient Finetuning of Quantized LLMs\", an effort to democratize access to LLM research.\\n\\nQLoRA uses bitsandbytes for quantization and is integrated with Hugging Face\\'s PEFT and transformers libraries. QLoRA was developed by members of the University of Washington\\'s UW NLP group.\\n\\n## Updates\\n\\n## Overview [...] You can specify the path to your dataset using the `--dataset` argument. If the `--dataset_format` argument is not set, it will default to the Alpaca format. Here are a few examples:\\n\\n`--dataset`\\n`--dataset_format`\\n\\n### Multi GPU\\n\\nMulti GPU training and inference work out-of-the-box with Hugging Face\\'s Accelerate. Note that the `per_device_train_batch_size` and `per_device_eval_batch_size` arguments are global batch sizes unlike what their name suggest.', 'score': 0.34873438, 'raw_content': None}, {'url': 'https://arxiv.org/abs/2305.14314', 'title': '[2305.14314] QLoRA: Efficient Finetuning of Quantized LLMs', 'content': \"close this message\\narXiv smileybones\\n\\n## arXiv Is Hiring a DevOps Engineer\\n\\nWork on one of the world's most important websites and make an impact on open science.\\n\\nCornell University\\n\\narXiv Is Hiring a DevOps Engineer\\n\\narxiv logo\\n\\nHelp | Advanced Search\\n\\narXiv logo\\nCornell University Logo\\n\\n## quick links\\n\\n# Computer Science > Machine Learning\\n\\n# Title:QLoRA: Efficient Finetuning of Quantized LLMs [...] Both individuals and organizations that work with arXivLabs have embraced and accepted our values of openness, community, excellence, and user data privacy. arXiv is committed to these values and only works with partners that adhere to them.\\n\\nHave an idea for a project that will add value for arXiv's community? Learn more about arXivLabs.\\n\\narXiv Operational Status   \\nGet status notifications via\\nemail\\nor slack [...] # Code, Data and Media Associated with this Article\\n\\n# Demos\\n\\n# Recommenders and Search Tools\\n\\n# arXivLabs: experimental projects with community collaborators\\n\\narXivLabs is a framework that allows collaborators to develop and share new arXiv features directly on our website.\", 'score': 0.26234588, 'raw_content': None}, {'url': 'https://twitter.com/search?q=%23QLORA&src=hashtag_click', 'title': '#QLORA - Search / X', 'content': '#LoRA vs #QLoRA for #FineTuning #LLM: LoRA is faster & cheaper to train, while QLoRA uses less memory & supports longer sequences & larger batches.', 'score': 0.23612009, 'raw_content': None}, {'url': 'https://www.reddit.com/r/LocalLLaMA/comments/13qrdj6/qlora_4bit_finetuning_of_llms_is_here_with_it/', 'title': 'QLoRA: 4-bit finetuning of LLMs is here! With it comes Guanaco, a ...', 'content': 'QLoRA: 4-bit finetuning of LLMs is here! With it comes Guanaco, a chatbot on a single GPU, achieving 99% ChatGPT performance on the Vicuna', 'score': 0.18316986, 'raw_content': None}], 'response_time': 3.48})]\n",
            "\n",
            "\n",
            "\n",
            "Receiving update from node: 'agent'\n",
            "[AIMessage(content='I found the QLoRA paper titled \"QLoRA: Efficient Finetuning of Quantized LLMs,\" published on May 23, 2023, authored by Tim Dettmers, Artidoro Pagnoni, Ari Holtzman, and Luke Zettlemoyer. \\n\\nRegarding the latest Tweets by the authors:\\n- Tim Dettmers has not been explicitly mentioned in the search results for a recent Tweet.\\n- Artidoro Pagnoni has a GitHub profile and is associated with the QLoRA project, but no recent Tweet is directly linked.\\n- Ari Holtzman and Luke Zettlemoyer do not have recent Tweets in the search results.\\n\\nWould you like me to try to find specific recent Tweets from each individual on Twitter?', additional_kwargs={'refusal': None}, response_metadata={'token_usage': {'completion_tokens': 157, 'prompt_tokens': 2278, 'total_tokens': 2435, 'completion_tokens_details': {'accepted_prediction_tokens': 0, 'audio_tokens': 0, 'reasoning_tokens': 0, 'rejected_prediction_tokens': 0}, 'prompt_tokens_details': {'audio_tokens': 0, 'cached_tokens': 0}}, 'model_name': 'gpt-4.1-nano-2025-04-14', 'system_fingerprint': 'fp_38343a2f8f', 'id': 'chatcmpl-C2benpmYmdySux0KGD02ryOLICCLG', 'service_tier': 'default', 'finish_reason': 'stop', 'logprobs': None}, id='run--a041832c-e7aa-4d07-a750-102cc47ea477-0', usage_metadata={'input_tokens': 2278, 'output_tokens': 157, 'total_tokens': 2435, 'input_token_details': {'audio': 0, 'cache_read': 0}, 'output_token_details': {'audio': 0, 'reasoning': 0}})]\n",
            "\n",
            "\n",
            "\n"
          ]
        }
      ],
      "source": [
        "inputs = {\"messages\" : [HumanMessage(content=\"Search for the QLoRA paper, then search each of the authors to find out their latest Tweet using Tavily!\")]}\n",
        "\n",
        "async for chunk in simple_agent_graph.astream(inputs, stream_mode=\"updates\"):\n",
        "    for node, values in chunk.items():\n",
        "        print(f\"Receiving update from node: '{node}'\")\n",
        "        if node == \"action\":\n",
        "          print(f\"Tool Used: {values['messages'][0].name}\")\n",
        "        print(values[\"messages\"])\n",
        "\n",
        "        print(\"\\n\\n\")"
      ]
    },
    {
      "cell_type": "markdown",
      "metadata": {
        "id": "CXzDlZVz1Hnf"
      },
      "source": [
        "#### 🏗️ Activity #2:\n",
        "\n",
        "Please write out the steps the agent took to arrive at the correct answer."
      ]
    },
    {
      "cell_type": "markdown",
      "metadata": {},
      "source": [
        "<div style=\"background-color: #204B8E; color: white; padding: 10px; border-radius: 5px;\">\n",
        "\n",
        "### Steps the agent took to arrive with the correct answer\n",
        "\n",
        "- Initial Query Processing - User asked to \"Search for the QLoRa paper, then search each of the authors to find out their latest Tweet using Tavily!\"\n",
        "- Agent Planning - The agent analyzed the request and decided to use multiple tools. ArXiv for the QLoRa paper and Tavily for the latest tweets by QLoRa authors\n",
        "- Tool Exectuion - Agent made parallel tool calles. arxiv tool with query \"QLoRa\" and tavily_search_results_json tool with query \"latest Tweet by author of QLoRa\"\n",
        "- Information Gathering - Tools returned information. ArXiv results with QLoRa paper details such as the authors. Tavily results with limited Twitter information.\n",
        "- Synthesis and Response - Agent analyzed the gathered data and provided a comprehensive response identifying the QLoRa paper and noting the limited availability of recent tweets from the authors.\n",
        "\n",
        "</div>"
      ]
    },
    {
      "cell_type": "markdown",
      "metadata": {
        "id": "v7c8-Uyarh1v"
      },
      "source": [
        "# LangSmith Evaluator (Optional)"
      ]
    },
    {
      "cell_type": "markdown",
      "metadata": {
        "id": "pV3XeFOT1Sar"
      },
      "source": [
        "### Pre-processing for LangSmith"
      ]
    },
    {
      "cell_type": "markdown",
      "metadata": {
        "id": "wruQCuzewUuO"
      },
      "source": [
        "To do a little bit more preprocessing, let's wrap our LangGraph agent in a simple chain."
      ]
    },
    {
      "cell_type": "code",
      "execution_count": 16,
      "metadata": {
        "id": "oeXdQgbxwhTv"
      },
      "outputs": [],
      "source": [
        "def convert_inputs(input_object):\n",
        "  return {\"messages\" : [HumanMessage(content=input_object[\"question\"])]}\n",
        "\n",
        "def parse_output(input_state):\n",
        "  return input_state[\"messages\"][-1].content\n",
        "\n",
        "agent_chain_with_formatting = convert_inputs | simple_agent_graph | parse_output"
      ]
    },
    {
      "cell_type": "code",
      "execution_count": 34,
      "metadata": {
        "colab": {
          "base_uri": "https://localhost:8080/",
          "height": 105
        },
        "id": "orYxBZXSxJjZ",
        "outputId": "76be837b-6424-4516-8f63-07fbd8c25bf5"
      },
      "outputs": [
        {
          "data": {
            "text/plain": [
              "'The LangSmith evaluator is a tool within the LangSmith platform that allows developers to assess and evaluate the performance and quality of large language models (LLMs). It provides both pre-built (off-the-shelf) evaluators and the capability for users to create custom evaluators. These evaluators generate scores or assessments based on the outputs of LLMs, helping developers ensure their models perform well, are relevant, accurate, and aligned with their specific use cases. The evaluators can be integrated into workflows via SDKs, the UI, or automated rules, making it a comprehensive solution for systematic evaluation of LLM applications.'"
            ]
          },
          "execution_count": 34,
          "metadata": {},
          "output_type": "execute_result"
        }
      ],
      "source": [
        "agent_chain_with_formatting.invoke({\"question\" : \"What is langsmith evaluator?\"})"
      ]
    },
    {
      "cell_type": "markdown",
      "metadata": {
        "id": "f9UkCIqkpyZu"
      },
      "source": [
        "### Task 1: Creating An Evaluation Dataset\n",
        "\n",
        "Just as we saw last week, we'll want to create a dataset to test our Agent's ability to answer questions.\n",
        "\n",
        "In order to do this - we'll want to provide some questions and some answers. Let's look at how we can create such a dataset below.\n",
        "\n",
        "```python\n",
        "questions = [\n",
        "    \"What optimizer is used in QLoRA?\",\n",
        "    \"What data type was created in the QLoRA paper?\",\n",
        "    \"What is a Retrieval Augmented Generation system?\",\n",
        "    \"Who authored the QLoRA paper?\",\n",
        "    \"What is the most popular deep learning framework?\",\n",
        "    \"What significant improvements does the LoRA system make?\"\n",
        "]\n",
        "\n",
        "answers = [\n",
        "    {\"must_mention\" : [\"paged\", \"optimizer\"]},\n",
        "    {\"must_mention\" : [\"NF4\", \"NormalFloat\"]},\n",
        "    {\"must_mention\" : [\"ground\", \"context\"]},\n",
        "    {\"must_mention\" : [\"Tim\", \"Dettmers\"]},\n",
        "    {\"must_mention\" : [\"PyTorch\", \"TensorFlow\"]},\n",
        "    {\"must_mention\" : [\"reduce\", \"parameters\"]},\n",
        "]\n",
        "```"
      ]
    },
    {
      "cell_type": "markdown",
      "metadata": {
        "id": "VfMXF2KAsQxs"
      },
      "source": [
        "#### 🏗️ Activity #3:\n",
        "\n",
        "Please create a dataset in the above format with at least 5 questions."
      ]
    },
    {
      "cell_type": "code",
      "execution_count": 18,
      "metadata": {
        "id": "CbagRuJop83E"
      },
      "outputs": [],
      "source": [
        "questions = [\n",
        "    \"What optimizer is used in QLoRA?\",\n",
        "    \"What data type was created in the QLoRA paper?\",\n",
        "    \"What is a Retrieval Augmented Generation system?\",\n",
        "    \"Who authored the QLoRA paper?\",\n",
        "    \"What is the most popular deep learning framework?\",\n",
        "    \"What significant improvements does the LoRA system make?\"\n",
        "]\n",
        "\n",
        "answers = [\n",
        "    {\"must_mention\" : [\"paged\", \"optimizer\"]},\n",
        "    {\"must_mention\" : [\"NF4\", \"NormalFloat\"]},\n",
        "    {\"must_mention\" : [\"ground\", \"context\"]},\n",
        "    {\"must_mention\" : [\"Tim\", \"Dettmers\"]},\n",
        "    {\"must_mention\" : [\"PyTorch\", \"TensorFlow\"]},\n",
        "    {\"must_mention\" : [\"reduce\", \"parameters\"]},\n",
        "]"
      ]
    },
    {
      "cell_type": "markdown",
      "metadata": {
        "id": "z7QVFuAmsh7L"
      },
      "source": [
        "Now we can add our dataset to our LangSmith project using the following code which we saw last Thursday!"
      ]
    },
    {
      "cell_type": "code",
      "execution_count": 19,
      "metadata": {
        "id": "RLfrZrgSsn85"
      },
      "outputs": [
        {
          "data": {
            "text/plain": [
              "{'example_ids': ['53ce6556-89b8-4d51-a1fe-7673de606aea',\n",
              "  '30b2bc69-8693-4c4f-85a0-2032355874c2',\n",
              "  '2fc50afe-4ed7-439b-bb8c-5709da2564c2',\n",
              "  '7fcb3409-5f34-4654-b048-22f72ccb9888',\n",
              "  'b5dcd3a5-c0c2-48f7-bcaa-9641a18dd768',\n",
              "  'cd47199a-6057-4c3c-a841-d0a60956a0e2'],\n",
              " 'count': 6}"
            ]
          },
          "execution_count": 19,
          "metadata": {},
          "output_type": "execute_result"
        }
      ],
      "source": [
        "from langsmith import Client\n",
        "\n",
        "client = Client()\n",
        "\n",
        "dataset_name = f\"Retrieval Augmented Generation - Evaluation Dataset - {uuid4().hex[0:8]}\"\n",
        "\n",
        "dataset = client.create_dataset(\n",
        "    dataset_name=dataset_name,\n",
        "    description=\"Questions about the QLoRA Paper to Evaluate RAG over the same paper.\"\n",
        ")\n",
        "\n",
        "client.create_examples(\n",
        "    inputs=[{\"question\" : q} for q in questions],\n",
        "    outputs=answers,\n",
        "    dataset_id=dataset.id,\n",
        ")"
      ]
    },
    {
      "cell_type": "markdown",
      "metadata": {
        "id": "ciV73F9Q04w0"
      },
      "source": [
        "<div style=\"background-color: #204B8E; color: white; padding: 10px; border-radius: 5px;\">\n",
        "\n",
        "#### ❓ Question #3:\n",
        "\n",
        "How are the correct answers associated with the questions?\n",
        "\n",
        "</div>\n",
        "\n",
        "> NOTE: Feel free to indicate if this is problematic or not"
      ]
    },
    {
      "cell_type": "markdown",
      "metadata": {},
      "source": [
        "<div style=\"background-color: #204B8E; color: white; padding: 10px; border-radius: 5px;\">\n",
        "\n",
        "### Answer\n",
        "\n",
        "In the evaluation setup, correct answers are associated with questions through parallel indexing. The questions and answers lists have the same length and corresponding indices.\n",
        "\n",
        "</div>"
      ]
    },
    {
      "cell_type": "markdown",
      "metadata": {
        "id": "-lRTXUrTtP9Y"
      },
      "source": [
        "### Task 2: Adding Evaluators\n",
        "\n",
        "Now we can add a custom evaluator to see if our responses contain the expected information.\n",
        "\n",
        "We'll be using a fairly naive exact-match process to determine if our response contains specific strings."
      ]
    },
    {
      "cell_type": "code",
      "execution_count": 20,
      "metadata": {
        "id": "QrAUXMFftlAY"
      },
      "outputs": [],
      "source": [
        "from langsmith.evaluation import EvaluationResult, run_evaluator\n",
        "\n",
        "@run_evaluator\n",
        "def must_mention(run, example) -> EvaluationResult:\n",
        "    prediction = run.outputs.get(\"output\") or \"\"\n",
        "    required = example.outputs.get(\"must_mention\") or []\n",
        "    score = all(phrase in prediction for phrase in required)\n",
        "    return EvaluationResult(key=\"must_mention\", score=score)"
      ]
    },
    {
      "cell_type": "markdown",
      "metadata": {
        "id": "PNtHORUh0jZY"
      },
      "source": [
        "<div style=\"background-color: #204B8E; color: white; padding: 10px; border-radius: 5px;\">\n",
        "\n",
        "#### ❓ Question #4:\n",
        "\n",
        "What are some ways you could improve this metric as-is?\n",
        "\n",
        "</div>\n",
        "\n",
        "> NOTE: Alternatively you can suggest where gaps exist in this method."
      ]
    },
    {
      "cell_type": "markdown",
      "metadata": {},
      "source": [
        "<div style=\"background-color: #204B8E; color: white; padding: 10px; border-radius: 5px;\">\n",
        "\n",
        "### Answer\n",
        "\n",
        "Some improvements that can be done are case-insensitive matching, fuzzy matching for typos, semantic similarity instead of exact matching, and multiple evaluation criteria.\n",
        "\n",
        "</div>"
      ]
    },
    {
      "cell_type": "markdown",
      "metadata": {
        "id": "r1RJr349zhv7"
      },
      "source": [
        "Task 3: Evaluating\n",
        "\n",
        "All that is left to do is evaluate our agent's response!"
      ]
    },
    {
      "cell_type": "code",
      "execution_count": 21,
      "metadata": {
        "colab": {
          "base_uri": "https://localhost:8080/",
          "height": 118,
          "referenced_widgets": [
            "efcf57067cf743d8b4ce059a61cbe02e",
            "53e33aae3b97490c82aec7bbb0d6ebba",
            "ad84e0e971d3455db2efe7dd0d1f803e",
            "72adef9b70dd48198b7322b6c5b113cf",
            "8a61d045ffd44ac58f3f13eb10044836",
            "041e22a9b5514e36bd4d1dac01d5d398",
            "886d762f2a7c421382efb5502c6d42a1",
            "ab91fd625bbd43afbf8c6398193a88d0",
            "716557ad09874dcb989d75f7c74424cd",
            "77d4c0ebaae045b58efc4f789c9a2360",
            "0d622ccc56264fac8fd7508dbdbe6e29"
          ]
        },
        "id": "p5TeCUUkuGld",
        "outputId": "2f7d62a2-e78d-447a-d07b-f9e4d500fb79"
      },
      "outputs": [
        {
          "name": "stdout",
          "output_type": "stream",
          "text": [
            "View the evaluation results for experiment: 'Search Pipeline - Evaluation - b7bc-e2d9049c' at:\n",
            "https://smith.langchain.com/o/4423eed6-51ef-4779-87fd-836990774900/datasets/24b121fc-4454-4c9e-a434-f15e49b52658/compare?selectedSessions=4dd0bb42-5b98-46e1-9392-20f6bc2b9c18\n",
            "\n",
            "\n"
          ]
        },
        {
          "data": {
            "application/vnd.jupyter.widget-view+json": {
              "model_id": "0671aff8460c41048705981f0ff61466",
              "version_major": 2,
              "version_minor": 0
            },
            "text/plain": [
              "0it [00:00, ?it/s]"
            ]
          },
          "metadata": {},
          "output_type": "display_data"
        }
      ],
      "source": [
        "experiment_results = client.evaluate(\n",
        "    agent_chain_with_formatting,\n",
        "    data=dataset_name,\n",
        "    evaluators=[must_mention],\n",
        "    experiment_prefix=f\"Search Pipeline - Evaluation - {uuid4().hex[0:4]}\",\n",
        "    metadata={\"version\": \"1.0.0\"},\n",
        ")"
      ]
    },
    {
      "cell_type": "code",
      "execution_count": 22,
      "metadata": {
        "colab": {
          "base_uri": "https://localhost:8080/",
          "height": 342
        },
        "id": "eeEqU7s05Byu",
        "outputId": "78395075-a05d-4ebd-c798-ed968b935318"
      },
      "outputs": [
        {
          "data": {
            "text/html": [
              "<ExperimentResults Search Pipeline - Evaluation - b7bc-e2d9049c>"
            ],
            "text/plain": [
              "<ExperimentResults Search Pipeline - Evaluation - b7bc-e2d9049c>"
            ]
          },
          "execution_count": 22,
          "metadata": {},
          "output_type": "execute_result"
        }
      ],
      "source": [
        "experiment_results"
      ]
    },
    {
      "cell_type": "markdown",
      "metadata": {
        "id": "jhTNe4kWrplB"
      },
      "source": [
        "## Part 2: LangGraph with Helpfulness:"
      ]
    },
    {
      "cell_type": "markdown",
      "metadata": {
        "id": "w1wKRddbIY_S"
      },
      "source": [
        "### Task 3: Adding Helpfulness Check and \"Loop\" Limits\n",
        "\n",
        "Now that we've done evaluation - let's see if we can add an extra step where we review the content we've generated to confirm if it fully answers the user's query!\n",
        "\n",
        "We're going to make a few key adjustments to account for this:\n",
        "\n",
        "1. We're going to add an artificial limit on how many \"loops\" the agent can go through - this will help us to avoid the potential situation where we never exit the loop.\n",
        "2. We'll add to our existing conditional edge to obtain the behaviour we desire."
      ]
    },
    {
      "cell_type": "markdown",
      "metadata": {
        "id": "npTYJ8ayR5B3"
      },
      "source": [
        "First, let's define our state again - we can check the length of the state object, so we don't need additional state for this."
      ]
    },
    {
      "cell_type": "code",
      "execution_count": 23,
      "metadata": {
        "id": "-LQ84YhyJG0w"
      },
      "outputs": [],
      "source": [
        "class AgentState(TypedDict):\n",
        "  messages: Annotated[list, add_messages]"
      ]
    },
    {
      "cell_type": "markdown",
      "metadata": {
        "id": "sD7EV0HqSQcb"
      },
      "source": [
        "Now we can set our graph up! This process will be almost entirely the same - with the inclusion of one additional node/conditional edge!"
      ]
    },
    {
      "cell_type": "markdown",
      "metadata": {
        "id": "oajBwLkFVi1N"
      },
      "source": [
        "#### 🏗️ Activity #5:\n",
        "\n",
        "Please write markdown for the following cells to explain what each is doing."
      ]
    },
    {
      "cell_type": "markdown",
      "metadata": {
        "id": "M6rN7feNVn9f"
      },
      "source": [
        "<div style=\"background-color: #204B8E; color: white; padding: 10px; border-radius: 5px;\">\n",
        "\n",
        "This cell creates our state graph and adds the two main nodes to our workflow:\n",
        "- **\"agent\" node**: Uses our `call_model` function to invoke the LLM with tools\n",
        "- **\"action\" node**: Uses the pre-built `ToolNode` to execute any tools the agent requests\n",
        "\n",
        "These nodes form the core components of our agent system, with one handling reasoning and the other handling tool execution.\n",
        "\n",
        "</div>"
      ]
    },
    {
      "cell_type": "code",
      "execution_count": 24,
      "metadata": {
        "colab": {
          "base_uri": "https://localhost:8080/"
        },
        "id": "6r6XXA5FJbVf",
        "outputId": "ff713041-e498-4f0f-a875-a03502b87729"
      },
      "outputs": [
        {
          "data": {
            "text/plain": [
              "<langgraph.graph.state.StateGraph at 0x1e3fe44fd90>"
            ]
          },
          "execution_count": 24,
          "metadata": {},
          "output_type": "execute_result"
        }
      ],
      "source": [
        "graph_with_helpfulness_check = StateGraph(AgentState)\n",
        "\n",
        "graph_with_helpfulness_check.add_node(\"agent\", call_model)\n",
        "graph_with_helpfulness_check.add_node(\"action\", tool_node)"
      ]
    },
    {
      "cell_type": "markdown",
      "metadata": {
        "id": "XZ22o2mWVrfp"
      },
      "source": [
        "<div style=\"background-color: #204B8E; color: white; padding: 10px; border-radius: 5px;\">\n",
        "\n",
        "This cell designates the \"agent\" node as the entry point for our graph. This means when we start the workflow, execution will begin at the agent node, where the LLM will first analyze the user's query and decide whether tools are needed.\n",
        "\n",
        "</div>"
      ]
    },
    {
      "cell_type": "code",
      "execution_count": 25,
      "metadata": {
        "colab": {
          "base_uri": "https://localhost:8080/"
        },
        "id": "HNWHwWxuRiLY",
        "outputId": "295f5a35-ceff-452a-ffb8-c52eada6a816"
      },
      "outputs": [
        {
          "data": {
            "text/plain": [
              "<langgraph.graph.state.StateGraph at 0x1e3fe44fd90>"
            ]
          },
          "execution_count": 25,
          "metadata": {},
          "output_type": "execute_result"
        }
      ],
      "source": [
        "graph_with_helpfulness_check.set_entry_point(\"agent\")"
      ]
    },
    {
      "cell_type": "markdown",
      "metadata": {
        "id": "rsXeF6xlaXOZ"
      },
      "source": [
        "<div style=\"background-color: #204B8E; color: white; padding: 10px; border-radius: 5px;\">\n",
        "\n",
        "The `tool_call_or_helpful` function serves as a conditional router that determines the next step in our agent workflow. It implements a three-step decision-making process:\n",
        "1. Tool Call Priority Checks: First, it examines if the agent's last message contains tool calls. If tools need to be executed, it immediately routes to the \"action\" node. This ensures that tool execution always takes precedence.\n",
        "2. Loop Prevention:\n",
        "It checks the conversation length to prevent infinite loops. If more than 10 messages have been exchanged, it forces termination by returning \"END\". This is a critical safety mechanism.\n",
        "3. Helpfulness Evaluation:\n",
        "The most sophisticated part - it uses a separate LLM instance (GPT-4.1-mini) to evaluate whether the agent's response adequately answers the user's original query. This implements an \"LLM-as-judge\" pattern where one model evaluates another's output quality.\n",
        "\n",
        "The function creates a prompt asking the evaluator to determine if the response is \"extremely helpful\" and returns either:\n",
        "\n",
        "\"end\" if the response is satisfactory (contains \"Y\")\n",
        "\"continue\" if more work is needed (anything else)\n",
        "\n",
        "This design enables iterative improvement until the response meets quality standards, while maintaining safety guardrails against runaway execution.\\\n",
        "\n",
        "</div>"
      ]
    },
    {
      "cell_type": "code",
      "execution_count": 26,
      "metadata": {
        "id": "z_Sq3A9SaV1O"
      },
      "outputs": [],
      "source": [
        "from langchain_core.prompts import PromptTemplate\n",
        "from langchain_core.output_parsers import StrOutputParser\n",
        "\n",
        "def tool_call_or_helpful(state):\n",
        "  last_message = state[\"messages\"][-1]\n",
        "\n",
        "  if last_message.tool_calls:\n",
        "    return \"action\"\n",
        "\n",
        "  initial_query = state[\"messages\"][0]\n",
        "  final_response = state[\"messages\"][-1]\n",
        "\n",
        "  if len(state[\"messages\"]) > 10:\n",
        "    return \"END\"\n",
        "\n",
        "  prompt_template = \"\"\"\\\n",
        "  Given an initial query and a final response, determine if the final response is extremely helpful or not. Please indicate helpfulness with a 'Y' and unhelpfulness as an 'N'.\n",
        "\n",
        "  Initial Query:\n",
        "  {initial_query}\n",
        "\n",
        "  Final Response:\n",
        "  {final_response}\"\"\"\n",
        "\n",
        "  helpfullness_prompt_template = PromptTemplate.from_template(prompt_template)\n",
        "\n",
        "  helpfulness_check_model = ChatOpenAI(model=\"gpt-4.1-mini\")\n",
        "\n",
        "  helpfulness_chain = helpfullness_prompt_template | helpfulness_check_model | StrOutputParser()\n",
        "\n",
        "  helpfulness_response = helpfulness_chain.invoke({\"initial_query\" : initial_query.content, \"final_response\" : final_response.content})\n",
        "\n",
        "  if \"Y\" in helpfulness_response:\n",
        "    return \"end\"\n",
        "  else:\n",
        "    return \"continue\""
      ]
    },
    {
      "cell_type": "markdown",
      "metadata": {
        "id": "Fz1u9Vf4SHxJ"
      },
      "source": [
        "#### 🏗️ Activity #4:\n",
        "\n",
        "Please write what is happening in our `tool_call_or_helpful` function!"
      ]
    },
    {
      "cell_type": "markdown",
      "metadata": {
        "id": "6BhnBW2YVsJO"
      },
      "source": [
        "<div style=\"background-color: #204B8E; color: white; padding: 10px; border-radius: 5px;\">\n",
        "\n",
        "This is where we wire up the routing logic. The conditional edge uses our `tool_call_or_helpful` function to determine the next step based on the agent's output:\n",
        "- If tools are needed -> route to \"action\" node\n",
        "- If response is helpful -> end the workflow\n",
        "- If response needs improvement -> continue to \"agent\" node for another iteration\n",
        "- If too many loops -> force termination\n",
        "\n",
        "</div>"
      ]
    },
    {
      "cell_type": "code",
      "execution_count": 27,
      "metadata": {
        "colab": {
          "base_uri": "https://localhost:8080/"
        },
        "id": "aVTKnWMbP_8T",
        "outputId": "7f729b1f-311c-4084-ceaf-0da437900c85"
      },
      "outputs": [
        {
          "data": {
            "text/plain": [
              "<langgraph.graph.state.StateGraph at 0x1e3fe44fd90>"
            ]
          },
          "execution_count": 27,
          "metadata": {},
          "output_type": "execute_result"
        }
      ],
      "source": [
        "graph_with_helpfulness_check.add_conditional_edges(\n",
        "    \"agent\",\n",
        "    tool_call_or_helpful,\n",
        "    {\n",
        "        \"continue\" : \"agent\",\n",
        "        \"action\" : \"action\",\n",
        "        \"end\" : END\n",
        "    }\n",
        ")"
      ]
    },
    {
      "cell_type": "markdown",
      "metadata": {
        "id": "ZGDLEWOIVtK0"
      },
      "source": [
        "<div style=\"background-color: #204B8E; color: white; padding: 10px; border-radius: 5px;\">\n",
        "\n",
        "This creates a simple, unconditional edge from the \"action\" node back to the \"agent\" node. After tools are executed, we always want to return control to the agent so it can process the tool results and formulate a response based on the new information. Also, agent will decide if more tools are needed or if the response is complete.\n",
        "\n",
        "</div>"
      ]
    },
    {
      "cell_type": "code",
      "execution_count": 2,
      "metadata": {
        "colab": {
          "base_uri": "https://localhost:8080/"
        },
        "id": "cbDK2MbuREgU",
        "outputId": "21a64c20-27a1-4e0e-afde-a639abaa8b55"
      },
      "outputs": [
        {
          "ename": "NameError",
          "evalue": "name 'graph_with_helpfulness_check' is not defined",
          "output_type": "error",
          "traceback": [
            "\u001b[31m---------------------------------------------------------------------------\u001b[39m",
            "\u001b[31mNameError\u001b[39m                                 Traceback (most recent call last)",
            "\u001b[36mCell\u001b[39m\u001b[36m \u001b[39m\u001b[32mIn[2]\u001b[39m\u001b[32m, line 1\u001b[39m\n\u001b[32m----> \u001b[39m\u001b[32m1\u001b[39m \u001b[43mgraph_with_helpfulness_check\u001b[49m.add_edge(\u001b[33m\"\u001b[39m\u001b[33maction\u001b[39m\u001b[33m\"\u001b[39m, \u001b[33m\"\u001b[39m\u001b[33magent\u001b[39m\u001b[33m\"\u001b[39m)\n",
            "\u001b[31mNameError\u001b[39m: name 'graph_with_helpfulness_check' is not defined"
          ]
        }
      ],
      "source": [
        "graph_with_helpfulness_check.add_edge(\"action\", \"agent\")"
      ]
    },
    {
      "cell_type": "markdown",
      "metadata": {
        "id": "rSI8AOaEVvT-"
      },
      "source": [
        "<div style=\"background-color: #204B8E; color: white; padding: 10px; border-radius: 5px;\">\n",
        "\n",
        "This final step compiles our graph definition into an executable workflow. The compilation process validates that all nodes and edges are properly connected and optimizes the execution flow. Then creates a runnable object that can process inputs and manage state. Once compiled, our graph becomes a fully functional agent that can handle complex multi-step reasoning with tool usage and quality checking.\n",
        "\n",
        "</div>"
      ]
    },
    {
      "cell_type": "code",
      "execution_count": 29,
      "metadata": {
        "id": "oQldl8ERQ8lf"
      },
      "outputs": [],
      "source": [
        "agent_with_helpfulness_check = graph_with_helpfulness_check.compile()"
      ]
    },
    {
      "cell_type": "markdown",
      "metadata": {
        "id": "F67FGCMRVwGz"
      },
      "source": [
        "<div style=\"background-color: #204B8E; color: white; padding: 10px; border-radius: 5px;\">\n",
        "\n",
        "This cell demonstrates our enhanced agent in action. Unlike the simple agent, this version will use tools when needed to gather information and evaluate its own response quality. It also will iterate and improve until the response is deemed extremely helpful and automatically terminate if it takes too many attempts. The streaming output shows each step of the process giving us visibility into the agent's decision-making and tool usage patterns.\n",
        "\n",
        "</div>"
      ]
    },
    {
      "cell_type": "code",
      "execution_count": 30,
      "metadata": {
        "colab": {
          "base_uri": "https://localhost:8080/"
        },
        "id": "B3oo8E-PRK1T",
        "outputId": "f152dea8-96ad-4d29-d8b2-a064c96a8bd3"
      },
      "outputs": [
        {
          "name": "stdout",
          "output_type": "stream",
          "text": [
            "Receiving update from node: 'agent'\n",
            "[AIMessage(content='', additional_kwargs={'tool_calls': [{'id': 'call_6hveISS0yquhym5zAzKrczJl', 'function': {'arguments': '{\"query\": \"LoRA machine learning\"}', 'name': 'tavily_search_results_json'}, 'type': 'function'}, {'id': 'call_Dije4H2hkeZxDs6tR1mmzH8c', 'function': {'arguments': '{\"query\": \"Tim Dettmers\"}', 'name': 'tavily_search_results_json'}, 'type': 'function'}, {'id': 'call_JFVUg953bzsIfsCeub54YvCn', 'function': {'arguments': '{\"query\": \"Attention in machine learning\"}', 'name': 'tavily_search_results_json'}, 'type': 'function'}], 'refusal': None}, response_metadata={'token_usage': {'completion_tokens': 79, 'prompt_tokens': 177, 'total_tokens': 256, 'completion_tokens_details': {'accepted_prediction_tokens': 0, 'audio_tokens': 0, 'reasoning_tokens': 0, 'rejected_prediction_tokens': 0}, 'prompt_tokens_details': {'audio_tokens': 0, 'cached_tokens': 0}}, 'model_name': 'gpt-4.1-nano-2025-04-14', 'system_fingerprint': 'fp_38343a2f8f', 'id': 'chatcmpl-C2WfJVvJQdcUeb3Z71nZFBTMyqCzv', 'service_tier': 'default', 'finish_reason': 'tool_calls', 'logprobs': None}, id='run--9c9e7010-3683-49cf-ab25-926e001dd99c-0', tool_calls=[{'name': 'tavily_search_results_json', 'args': {'query': 'LoRA machine learning'}, 'id': 'call_6hveISS0yquhym5zAzKrczJl', 'type': 'tool_call'}, {'name': 'tavily_search_results_json', 'args': {'query': 'Tim Dettmers'}, 'id': 'call_Dije4H2hkeZxDs6tR1mmzH8c', 'type': 'tool_call'}, {'name': 'tavily_search_results_json', 'args': {'query': 'Attention in machine learning'}, 'id': 'call_JFVUg953bzsIfsCeub54YvCn', 'type': 'tool_call'}], usage_metadata={'input_tokens': 177, 'output_tokens': 79, 'total_tokens': 256, 'input_token_details': {'audio': 0, 'cache_read': 0}, 'output_token_details': {'audio': 0, 'reasoning': 0}})]\n",
            "\n",
            "\n",
            "\n",
            "Receiving update from node: 'action'\n",
            "[ToolMessage(content='[{\"title\": \"What is LoRA? | Low-rank adaptation - Cloudflare\", \"url\": \"https://www.cloudflare.com/learning/ai/what-is-lora/\", \"content\": \"Low-rank adaptation (LoRA) is a technique for quickly adapting machine learning models to new contexts. LoRA helps make huge and complicated machine learning models much more suited for specific uses. It works by adding lightweight pieces to the original model, as opposed to changing the entire model. LoRA helps developers quickly expand the use cases for the machine learning models they build.\\\\n\\\\n## What does LoRA do? [...] LoRA adds low-rank matrices to the frozen original machine learning model. These matrices contain new weights to apply to the model when generating results. This process alters the outputs that the model produces with minimal computing power and training time.\\\\n\\\\nIn the analogy used above, Jim bought cheap adapters to plug his appliances into the wall. Low-rank matrices are like those cheap adapters, with the outlets being the original machine learning models.\\\\n\\\\n## How does machine learning work? [...] Sign upSales: +1 (888) 99 FLARE\\\\n\\\\n# What is low-rank adaptation (LoRA)?\\\\n\\\\nLow-rank adaptation (LoRA) is a way to adapt a large machine learning model for specific uses without retraining the entire model.\\\\n\\\\n#### Learning Objectives\\\\n\\\\nAfter reading this article you will be able to:\\\\n\\\\n Define \\\\\"low-rank adaptation\\\\\" (LoRA)\\\\n Explain in simple fashion how LoRA works\\\\n Understand the advantages of using LoRA\\\\n\\\\nRelated Content\\\\n\\\\n---\", \"score\": 0.9255605}, {\"title\": \"Improving LoRA: Implementing Weight-Decomposed Low-Rank ...\", \"url\": \"https://magazine.sebastianraschka.com/p/lora-and-dora-from-scratch\", \"content\": \"Image 7 Image 8: Ahead of AI Ahead of AI Improving LoRA: Implementing Weight-Decomposed Low-Rank Adaptation (DoRA) from Scratch\\\\n\\\\nCopy link\\\\n\\\\nFacebook\\\\n\\\\nEmail\\\\n\\\\nNotes\\\\n\\\\nMore\\\\n\\\\n46\\\\n\\\\n17\\\\n\\\\nShare)\\\\n\\\\nLow-rank adaptation (LoRA) is a machine learning technique that modifies a pretrained model (for example, an LLM or vision transformer) to better suit a specific, often smaller, dataset by adjusting only a small, low-rank subset of the model\\'s parameters.\", \"score\": 0.91671574}, {\"title\": \"Understanding LoRA with a minimal example - Posit AI Blog\", \"url\": \"https://blogs.rstudio.com/tensorflow/posts/2023-06-22-understanding-lora/\", \"content\": \"LoRA (Low-Rank Adaptation) is a new technique for fine tuning large scale pre-trained\\\\nmodels. Such models are usually trained on general domain data, so as to have\\\\nthe maximum amount of data. In order to obtain better results in tasks like chatting\\\\nor question answering, these models can be further ‘fine-tuned’ or adapted on domain\\\\nspecific data. [...] # Understanding LoRA with a minimal example\\\\n\\\\nLoRA (Low Rank Adaptation) is a new technique for fine-tuning deep learning models that works by reducing the number of trainable parameters and enables efficient task switching. In this blog post we will talk about the key ideas behind LoRA in a very minimal torch example. [...] LoRA (Low Rank Adaptation) is a new technique for fine-tuning deep learning models that works by reducing the number of trainable parameters and enables efficient task switching. In this blog post we will talk about the key ideas behind LoRA in a very minimal torch example.\\\\n\\\\n### Contents\", \"score\": 0.88420963}, {\"title\": \"What is LoRA (Low-Rank Adaption)? - IBM\", \"url\": \"https://www.ibm.com/think/topics/lora\", \"content\": \"LoRA adds low-rank matrices to the frozen original machine learning model. The low-rank matrices are updated through gradient descent during fine-tuning, without modifying the weights of the base model. These matrices contain new weights to apply to the model when generating results. The multiplied change matrix is added to the base model weights to get the final fine-tuned model. This process alters the outputs that the model produces with minimal computing power and training time. [...] is a technique used to adapt machine learning models to new contexts. It can adapt large models to specific uses by adding lightweight pieces to the original model rather than changing the entire model. A data scientist can quickly expand the ways that a model can be used rather than requiring them to build an entirely new model. [...] LoRA leverages the concept of lower-rank matrices to make the model training process extremely efficient and fast. Traditionally fine-tuning LLMs requires adjusting the entire model. LoRA focuses on modifying a smaller subset of parameters (lower-rank matrices) to reduce computational and memory overhead.\", \"score\": 0.8810534}, {\"title\": \"Mastering Low-Rank Adaptation (LoRA): Enhancing Large ...\", \"url\": \"https://www.datacamp.com/tutorial/mastering-low-rank-adaptation-lora-enhancing-large-language-models-for-efficient-adaptation\", \"content\": \"By leveraging lower-rank matrices, LoRA offers a more efficient and cost-effective approach to model adaptation, significantly reducing the trainable parameters and GPU memory requirements, thus enabling faster training and memory efficiency.\\\\n\\\\nThe application of LoRA extends beyond language models, finding utility in image models like Stable Diffusion, where it facilitates style specialization and character consistency in image generation. [...] In very simple words, LoRA leverages the concept of lower-rank matrices to make the model training process extremely efficient and fast.\\\\n\\\\nLarge models have a lot of parameters. For example, GPT-3 has 175 billion parameters. These parameters are just numbers stored in matrices. Storing them requires a lot of storage. [...] There are several advantages that come with using LoRA for fine-tuning:\\\\n\\\\n### 1. Efficiency in training and deployment\\\\n\\\\nLoRA reduces the computational burden, allowing faster adaptation of models. By requiring fewer trainable parameters, LoRA makes it feasible to fine-tune large models on less powerful hardware.\\\\n\\\\n### 2. Maintaining model quality and speed\\\\n\\\\nDespite the reduced parameter count, LoRA maintains the original model\\'s quality and inference speed.\\\\n\\\\n### 3. Reduction in checkpoint sizes\", \"score\": 0.82288796}]', name='tavily_search_results_json', id='0f7a8279-b623-4235-baf6-72389772d230', tool_call_id='call_6hveISS0yquhym5zAzKrczJl', artifact={'query': 'LoRA machine learning', 'follow_up_questions': None, 'answer': None, 'images': [], 'results': [{'url': 'https://www.cloudflare.com/learning/ai/what-is-lora/', 'title': 'What is LoRA? | Low-rank adaptation - Cloudflare', 'content': 'Low-rank adaptation (LoRA) is a technique for quickly adapting machine learning models to new contexts. LoRA helps make huge and complicated machine learning models much more suited for specific uses. It works by adding lightweight pieces to the original model, as opposed to changing the entire model. LoRA helps developers quickly expand the use cases for the machine learning models they build.\\n\\n## What does LoRA do? [...] LoRA adds low-rank matrices to the frozen original machine learning model. These matrices contain new weights to apply to the model when generating results. This process alters the outputs that the model produces with minimal computing power and training time.\\n\\nIn the analogy used above, Jim bought cheap adapters to plug his appliances into the wall. Low-rank matrices are like those cheap adapters, with the outlets being the original machine learning models.\\n\\n## How does machine learning work? [...] Sign upSales: +1 (888) 99 FLARE\\n\\n# What is low-rank adaptation (LoRA)?\\n\\nLow-rank adaptation (LoRA) is a way to adapt a large machine learning model for specific uses without retraining the entire model.\\n\\n#### Learning Objectives\\n\\nAfter reading this article you will be able to:\\n\\n Define \"low-rank adaptation\" (LoRA)\\n Explain in simple fashion how LoRA works\\n Understand the advantages of using LoRA\\n\\nRelated Content\\n\\n---', 'score': 0.9255605, 'raw_content': None}, {'url': 'https://magazine.sebastianraschka.com/p/lora-and-dora-from-scratch', 'title': 'Improving LoRA: Implementing Weight-Decomposed Low-Rank ...', 'content': \"Image 7 Image 8: Ahead of AI Ahead of AI Improving LoRA: Implementing Weight-Decomposed Low-Rank Adaptation (DoRA) from Scratch\\n\\nCopy link\\n\\nFacebook\\n\\nEmail\\n\\nNotes\\n\\nMore\\n\\n46\\n\\n17\\n\\nShare)\\n\\nLow-rank adaptation (LoRA) is a machine learning technique that modifies a pretrained model (for example, an LLM or vision transformer) to better suit a specific, often smaller, dataset by adjusting only a small, low-rank subset of the model's parameters.\", 'score': 0.91671574, 'raw_content': None}, {'url': 'https://blogs.rstudio.com/tensorflow/posts/2023-06-22-understanding-lora/', 'title': 'Understanding LoRA with a minimal example - Posit AI Blog', 'content': 'LoRA (Low-Rank Adaptation) is a new technique for fine tuning large scale pre-trained\\nmodels. Such models are usually trained on general domain data, so as to have\\nthe maximum amount of data. In order to obtain better results in tasks like chatting\\nor question answering, these models can be further ‘fine-tuned’ or adapted on domain\\nspecific data. [...] # Understanding LoRA with a minimal example\\n\\nLoRA (Low Rank Adaptation) is a new technique for fine-tuning deep learning models that works by reducing the number of trainable parameters and enables efficient task switching. In this blog post we will talk about the key ideas behind LoRA in a very minimal torch example. [...] LoRA (Low Rank Adaptation) is a new technique for fine-tuning deep learning models that works by reducing the number of trainable parameters and enables efficient task switching. In this blog post we will talk about the key ideas behind LoRA in a very minimal torch example.\\n\\n### Contents', 'score': 0.88420963, 'raw_content': None}, {'url': 'https://www.ibm.com/think/topics/lora', 'title': 'What is LoRA (Low-Rank Adaption)? - IBM', 'content': 'LoRA adds low-rank matrices to the frozen original machine learning model. The low-rank matrices are updated through gradient descent during fine-tuning, without modifying the weights of the base model. These matrices contain new weights to apply to the model when generating results. The multiplied change matrix is added to the base model weights to get the final fine-tuned model. This process alters the outputs that the model produces with minimal computing power and training time. [...] is a technique used to adapt machine learning models to new contexts. It can adapt large models to specific uses by adding lightweight pieces to the original model rather than changing the entire model. A data scientist can quickly expand the ways that a model can be used rather than requiring them to build an entirely new model. [...] LoRA leverages the concept of lower-rank matrices to make the model training process extremely efficient and fast. Traditionally fine-tuning LLMs requires adjusting the entire model. LoRA focuses on modifying a smaller subset of parameters (lower-rank matrices) to reduce computational and memory overhead.', 'score': 0.8810534, 'raw_content': None}, {'url': 'https://www.datacamp.com/tutorial/mastering-low-rank-adaptation-lora-enhancing-large-language-models-for-efficient-adaptation', 'title': 'Mastering Low-Rank Adaptation (LoRA): Enhancing Large ...', 'content': \"By leveraging lower-rank matrices, LoRA offers a more efficient and cost-effective approach to model adaptation, significantly reducing the trainable parameters and GPU memory requirements, thus enabling faster training and memory efficiency.\\n\\nThe application of LoRA extends beyond language models, finding utility in image models like Stable Diffusion, where it facilitates style specialization and character consistency in image generation. [...] In very simple words, LoRA leverages the concept of lower-rank matrices to make the model training process extremely efficient and fast.\\n\\nLarge models have a lot of parameters. For example, GPT-3 has 175 billion parameters. These parameters are just numbers stored in matrices. Storing them requires a lot of storage. [...] There are several advantages that come with using LoRA for fine-tuning:\\n\\n### 1. Efficiency in training and deployment\\n\\nLoRA reduces the computational burden, allowing faster adaptation of models. By requiring fewer trainable parameters, LoRA makes it feasible to fine-tune large models on less powerful hardware.\\n\\n### 2. Maintaining model quality and speed\\n\\nDespite the reduced parameter count, LoRA maintains the original model's quality and inference speed.\\n\\n### 3. Reduction in checkpoint sizes\", 'score': 0.82288796, 'raw_content': None}], 'response_time': 3.44}), ToolMessage(content='[{\"title\": \"Tim Dettmers\", \"url\": \"https://csd.cmu.edu/people/faculty/tim-dettmers\", \"content\": \"Tim Dettmers\\' work focuses on making foundation models, such as ChatGPT, accessible to researchers and practitioners by reducing their resource requirements. His main focus is to develop open-source agent systems that are competitive with closed-weight agents and can be run on consumer hardware, such as laptops. His research won oral, spotlight, and best paper awards at conferences such as ICLR and NeurIPS and was awarded the Block Award and Madrona Prize. He created the bitsandbytes [...] Home\\\\n\\\\n## Main navigation\\\\n\\\\n### Back to Main Menu\\\\n\\\\n### About Main page\\\\n\\\\n### Back to Main Menu\\\\n\\\\n### Admissions Main page\\\\n\\\\n### Back to Main Menu\\\\n\\\\n### Academics Main page\\\\n\\\\n### Back to Main Menu\\\\n\\\\n### People Main page\\\\n\\\\n### Back to Main Menu\\\\n\\\\n### Research Main page\\\\n\\\\n## Breadcrumb\\\\n\\\\n# Tim Dettmers\\\\n\\\\nTim Dettmers\\\\n\\\\nAssistant Professor\\\\n\\\\nWebsite\\\\n\\\\nGoogle Scholars Link\\\\n\\\\nEmail\\\\ndettmers@cmu.edu\\\\n\\\\nDepartment  \\\\nMachine Learning Department  \\\\nComputer Science Department [...] ## Research Statement\\\\n\\\\nMy current research interests include:  \\\\n- open-source agents  \\\\n- on-device mixture of experts  \\\\n- hierarchical LLM architectures and deployments  \\\\n- scientific automation (including healthcare)  \\\\n- automation with AI\\\\n\\\\n## Computer Science Department\\\\n\\\\nCarnegie Mellon University School of Computer Science\\\\n\\\\nCarnegie Mellon University School of Computer Science\", \"score\": 0.70944256}, {\"title\": \"About Me\", \"url\": \"https://timdettmers.com/about/\", \"content\": \"## Skip links\\\\n\\\\nTim Dettmers\\\\n\\\\nMaking deep learning accessible.\\\\n\\\\n## Header Right\\\\n\\\\n### Blog Posts Topics\\\\n\\\\n## Main navigation\\\\n\\\\n# About Me\\\\n\\\\nResearch Interests  \\\\n Publications  \\\\n Awards & Honors  \\\\n Service\\\\n\\\\nGoogle Scholar\\\\n\\\\nfirstname.lastname@gmail.com\\\\n\\\\nI am a research scientist at the Allen Institute for Artificial Intelligence (Ai2) and an incoming Assistant Professor at Carnegie Mellon University (CMU). I am the creator and maintainer of bitsandbytes. [...] Convolutional 2D Knowledge Graph Embeddings, Tim Dettmers, Pasquale Minervini, Pontus Stenetorp, Sebastian Riedel. AAAI2018. [arXiv] [bib] [code] [data] [Q&A]\\\\n\\\\n#### 2016\\\\n\\\\n8-Bit Approximations for Parallelism in Deep Learning, Tim Dettmers. ICLR2016. [arXiv] [bib] [code] [data]\\\\n\\\\n## Awards & Honors\\\\n\\\\n2023                 Madrona Prize\\\\n\\\\n2023                 Google Open Source Award\\\\n\\\\n2023                 PyTorch Foundation Award\\\\n\\\\n2023                 Martin & Beate Block Award [...] SWARM Parallelism: Training Large Models Can Be Surprisingly Communication-Efficient. Max Ryabinin\\\\\\\\, Tim Dettmers\\\\\\\\, Michael Diskin, Alexander Borzunov. ICML 2023. [arXiv]\\\\n\\\\n#### 2022\\\\n\\\\nThe case for 4-bit precision: k-bit Inference Scaling Laws. Tim Dettmers, Luke Zettlemoyer. ICML 2023. [arXiv]\\\\n\\\\nLLM.int8(): 8-bit Matrix Multiplication for Transformers at Scale. Tim Dettmers, Mike Lewis, Younes Belkada, Luke Zettlemoyer. NeurIPS 2022. [arXiv] [blog post]\", \"score\": 0.5971152}, {\"title\": \"Interviewing Tim Dettmers on open-source AI\", \"url\": \"https://www.interconnects.ai/p/tim-dettmers\", \"content\": \"Nathan Lambert [01:06:39]: What is the difference? What would be the core technique?\\\\n\\\\nTim Dettmers [01:06:44]: It\\'s more fine grain control. So you can say like, if certain evaluation has certain value, go along this branch. Whereas an agent, you would say like, here\\'s my prompt and do what the answer says. And it\\'s like, it makes no sense. Yeah, it\\'s a mess. [...] Nathan Lambert [00:14:21]: Yeah, it\\'s like you could write, no offense to the Hugging Face Transformers ecosystem, like you could probably write another model pretty easily and it\\'s like an add-on. But writing the core abstraction for like a training architecture is really hard.\\\\n\\\\nTim Dettmers [00:14:33]: Yeah, I think that makes sense. I mean, models can write it, but then you will lose so much time in the future when you need to get back to change something, maintain it, or... [...] Tim Dettmers [00:33:15]: I mean, I wonder how, in what way AI will sort of impact society. I mean, if you look at social media, I think most people would say it hasn\\'t been entirely positive. And so I think with AI, it\\'s like the question, where will there be sort of good parts and where will there be bad parts? I think overall, we see good parts in terms of, it\\'s helpful. To some degree, it gets better.\", \"score\": 0.5829428}, {\"title\": \"Author: Tim Dettmers | NVIDIA Technical Blog\", \"url\": \"https://developer.nvidia.com/blog/author/tdettmers/\", \"content\": \"Home\\\\nHome\\\\n\\\\n# Tim Dettmers\\\\n\\\\n## Posts by Tim Dettmers [...] Figure 1: Value iteration constructs the value function over all states over time. Here each square is a state: S is the start state, G the goal state, T squares are traps, and black squares cannot be entered. In value iteration we initialize the rewards (traps and goal state) and then these reward values spread over time until an equilibrium is reached. Depending on the penalty value on traps and the reward value for the goal different solution patterns might emerge; the last two grids show [...] ### Deep Learning in a Nutshell: Reinforcement Learning\\\\n\\\\nCUDA AI Cube\\\\nCUDA AI Cube\\\\n\\\\n### Deep Learning in a Nutshell: Sequence Learning\\\\n\\\\n### Deep Learning in a Nutshell: History and Training\\\\n\\\\n### Deep Learning in a Nutshell: Core Concepts\", \"score\": 0.5689194}, {\"title\": \"Tim Dettmers — Making deep learning accessible.\", \"url\": \"https://timdettmers.com/\", \"content\": \"### Recent Posts\\\\n\\\\n## Secondary Sidebar\\\\n\\\\nCopyright © 2025 · Genesis Framework · WordPress · Log in [...] When I attended NAACL, I wanted to do a little test. I had two pitches for my LLM.int8() paper. One pitch is about how I use advanced quantization methods to achieve no performance degradation transformer inference at scale that makes large models more accessible. The other pitch talks about emergent outliers in transformers and how they radically change what transformers learn and how they function. [...] Identity Perspective, the Stability Perspective, and the Variability Perspective.\", \"score\": 0.529045}]', name='tavily_search_results_json', id='649ba0e9-cf0f-4fe3-8184-4f963af9c50e', tool_call_id='call_Dije4H2hkeZxDs6tR1mmzH8c', artifact={'query': 'Tim Dettmers', 'follow_up_questions': None, 'answer': None, 'images': [], 'results': [{'url': 'https://csd.cmu.edu/people/faculty/tim-dettmers', 'title': 'Tim Dettmers', 'content': \"Tim Dettmers' work focuses on making foundation models, such as ChatGPT, accessible to researchers and practitioners by reducing their resource requirements. His main focus is to develop open-source agent systems that are competitive with closed-weight agents and can be run on consumer hardware, such as laptops. His research won oral, spotlight, and best paper awards at conferences such as ICLR and NeurIPS and was awarded the Block Award and Madrona Prize. He created the bitsandbytes [...] Home\\n\\n## Main navigation\\n\\n### Back to Main Menu\\n\\n### About Main page\\n\\n### Back to Main Menu\\n\\n### Admissions Main page\\n\\n### Back to Main Menu\\n\\n### Academics Main page\\n\\n### Back to Main Menu\\n\\n### People Main page\\n\\n### Back to Main Menu\\n\\n### Research Main page\\n\\n## Breadcrumb\\n\\n# Tim Dettmers\\n\\nTim Dettmers\\n\\nAssistant Professor\\n\\nWebsite\\n\\nGoogle Scholars Link\\n\\nEmail\\ndettmers@cmu.edu\\n\\nDepartment  \\nMachine Learning Department  \\nComputer Science Department [...] ## Research Statement\\n\\nMy current research interests include:  \\n- open-source agents  \\n- on-device mixture of experts  \\n- hierarchical LLM architectures and deployments  \\n- scientific automation (including healthcare)  \\n- automation with AI\\n\\n## Computer Science Department\\n\\nCarnegie Mellon University School of Computer Science\\n\\nCarnegie Mellon University School of Computer Science\", 'score': 0.70944256, 'raw_content': None}, {'url': 'https://timdettmers.com/about/', 'title': 'About Me', 'content': '## Skip links\\n\\nTim Dettmers\\n\\nMaking deep learning accessible.\\n\\n## Header Right\\n\\n### Blog Posts Topics\\n\\n## Main navigation\\n\\n# About Me\\n\\nResearch Interests  \\n Publications  \\n Awards & Honors  \\n Service\\n\\nGoogle Scholar\\n\\nfirstname.lastname@gmail.com\\n\\nI am a research scientist at the Allen Institute for Artificial Intelligence (Ai2) and an incoming Assistant Professor at Carnegie Mellon University (CMU). I am the creator and maintainer of bitsandbytes. [...] Convolutional 2D Knowledge Graph Embeddings, Tim Dettmers, Pasquale Minervini, Pontus Stenetorp, Sebastian Riedel. AAAI2018. [arXiv] [bib] [code] [data] [Q&A]\\n\\n#### 2016\\n\\n8-Bit Approximations for Parallelism in Deep Learning, Tim Dettmers. ICLR2016. [arXiv] [bib] [code] [data]\\n\\n## Awards & Honors\\n\\n2023                 Madrona Prize\\n\\n2023                 Google Open Source Award\\n\\n2023                 PyTorch Foundation Award\\n\\n2023                 Martin & Beate Block Award [...] SWARM Parallelism: Training Large Models Can Be Surprisingly Communication-Efficient. Max Ryabinin\\\\, Tim Dettmers\\\\, Michael Diskin, Alexander Borzunov. ICML 2023. [arXiv]\\n\\n#### 2022\\n\\nThe case for 4-bit precision: k-bit Inference Scaling Laws. Tim Dettmers, Luke Zettlemoyer. ICML 2023. [arXiv]\\n\\nLLM.int8(): 8-bit Matrix Multiplication for Transformers at Scale. Tim Dettmers, Mike Lewis, Younes Belkada, Luke Zettlemoyer. NeurIPS 2022. [arXiv] [blog post]', 'score': 0.5971152, 'raw_content': None}, {'url': 'https://www.interconnects.ai/p/tim-dettmers', 'title': 'Interviewing Tim Dettmers on open-source AI', 'content': \"Nathan Lambert [01:06:39]: What is the difference? What would be the core technique?\\n\\nTim Dettmers [01:06:44]: It's more fine grain control. So you can say like, if certain evaluation has certain value, go along this branch. Whereas an agent, you would say like, here's my prompt and do what the answer says. And it's like, it makes no sense. Yeah, it's a mess. [...] Nathan Lambert [00:14:21]: Yeah, it's like you could write, no offense to the Hugging Face Transformers ecosystem, like you could probably write another model pretty easily and it's like an add-on. But writing the core abstraction for like a training architecture is really hard.\\n\\nTim Dettmers [00:14:33]: Yeah, I think that makes sense. I mean, models can write it, but then you will lose so much time in the future when you need to get back to change something, maintain it, or... [...] Tim Dettmers [00:33:15]: I mean, I wonder how, in what way AI will sort of impact society. I mean, if you look at social media, I think most people would say it hasn't been entirely positive. And so I think with AI, it's like the question, where will there be sort of good parts and where will there be bad parts? I think overall, we see good parts in terms of, it's helpful. To some degree, it gets better.\", 'score': 0.5829428, 'raw_content': None}, {'url': 'https://developer.nvidia.com/blog/author/tdettmers/', 'title': 'Author: Tim Dettmers | NVIDIA Technical Blog', 'content': 'Home\\nHome\\n\\n# Tim Dettmers\\n\\n## Posts by Tim Dettmers [...] Figure 1: Value iteration constructs the value function over all states over time. Here each square is a state: S is the start state, G the goal state, T squares are traps, and black squares cannot be entered. In value iteration we initialize the rewards (traps and goal state) and then these reward values spread over time until an equilibrium is reached. Depending on the penalty value on traps and the reward value for the goal different solution patterns might emerge; the last two grids show [...] ### Deep Learning in a Nutshell: Reinforcement Learning\\n\\nCUDA AI Cube\\nCUDA AI Cube\\n\\n### Deep Learning in a Nutshell: Sequence Learning\\n\\n### Deep Learning in a Nutshell: History and Training\\n\\n### Deep Learning in a Nutshell: Core Concepts', 'score': 0.5689194, 'raw_content': None}, {'url': 'https://timdettmers.com/', 'title': 'Tim Dettmers — Making deep learning accessible.', 'content': '### Recent Posts\\n\\n## Secondary Sidebar\\n\\nCopyright © 2025 · Genesis Framework · WordPress · Log in [...] When I attended NAACL, I wanted to do a little test. I had two pitches for my LLM.int8() paper. One pitch is about how I use advanced quantization methods to achieve no performance degradation transformer inference at scale that makes large models more accessible. The other pitch talks about emergent outliers in transformers and how they radically change what transformers learn and how they function. [...] Identity Perspective, the Stability Perspective, and the Variability Perspective.', 'score': 0.529045, 'raw_content': None}], 'response_time': 3.42}), ToolMessage(content='[{\"title\": \"Attention Mechanisms and Their Applications to Complex Systems\", \"url\": \"https://pmc.ncbi.nlm.nih.gov/articles/PMC7996841/\", \"content\": \"Generally formulated, attention in machine learning is a sequential process in which a learning task is guided by a set of elements of the input source (or memory). This is achieved by integrating the attention value into the task. [...] Attention mechanisms have provided and will provide a paradigm shift in machine learning. Specifically, this change is from traditional large-scale vector transformations to more conscious processes (i.e., that focus only on a set of elements), e.g., decomposing a problem into a sequence of attention based reasoning tasks [13,30,31,32,33,34]. [...] Attention mechanisms have provided and will provide a paradigm shift in machine learning [11,12]. These mechanisms allow a model to focus only on a set of elements and to decompose a problem into a sequence of attention based reasoning tasks . Moreover, they can be applied to model complex systems in a flexible and promising way. When it comes to their application, information processing in the system and internal structure are crucial.\", \"score\": 0.9581988}, {\"title\": \"Attention (machine learning) - Wikipedia\", \"url\": \"https://en.wikipedia.org/wiki/Attention_(machine_learning)\", \"content\": \"Attention is a machine learning method that determines the importance of each component in a sequence relative to the other components in that sequence. In natural language processing, importance is represented by \\\\\"soft\\\\\" weights assigned to each word in a sentence. More generally, attention encodes vectors called tokenembeddings across a fixed-width sequence that can range from tens to millions of tokens in size. [...] Inspired by ideas about attention in humans, the attention mechanism was developed to address the weaknesses of leveraging information from the hidden layers of recurrent neural networks. Recurrent neural networks favor more recent information contained in words at the end of a sentence, while information earlier in the sentence tends to be attenuated. Attention allows a token equal access to any part of a sentence directly, rather than only through the previous state.\\\\n\\\\nHistory\\\\n------- [...] Attention(A Q,B K,B V)=A Attention(Q,K,V){\\\\\\\\displaystyle {\\\\\\\\text{Attention}}(\\\\\\\\mathbf {A} \\\\\\\\mathbf {Q} ,\\\\\\\\mathbf {B} \\\\\\\\mathbf {K} ,\\\\\\\\mathbf {B} \\\\\\\\mathbf {V} )=\\\\\\\\mathbf {A} \\\\\\\\,{\\\\\\\\text{Attention}}(\\\\\\\\mathbf {Q} ,\\\\\\\\mathbf {K} ,\\\\\\\\mathbf {V} )}Image 31: {\\\\\\\\displaystyle {\\\\\\\\text{Attention}}(\\\\\\\\mathbf {A} \\\\\\\\mathbf {Q} ,\\\\\\\\mathbf {B} \\\\\\\\mathbf {K} ,\\\\\\\\mathbf {B} \\\\\\\\mathbf {V} )=\\\\\\\\mathbf {A} \\\\\\\\,{\\\\\\\\text{Attention}}(\\\\\\\\mathbf {Q} ,\\\\\\\\mathbf {K} ,\\\\\\\\mathbf {V} )}\", \"score\": 0.94956195}, {\"title\": \"Transformers models in machine learning: self-attention to the rescue\", \"url\": \"https://domino.ai/blog/transformers-self-attention-to-the-rescue\", \"content\": \"Since the important information of the original sequence is carried in the context vector, we can see this as the most important part of the architecture. Similarly, it may be the cause of a \\\\\"traffic jam\\\\\" in the system. This is where the concept of attention comes into play. Originally proposed in 2015 by Minh-Thang Long, it enables your model to focus on the significant parts of the input sequence as required.\\\\n\\\\n## Paying Attention [...] As we can see, \\\\\"memory\\\\\" alone in the model (such as in an LSTM) may not be enough. We need \\\\\"attention\\\\\" to help further improve tasks such as machine translation be. Let us take a look at what attention does. [...] ## Looking Inwards - The Role of Self-Attention\\\\n\\\\nWhile attention is an important trick up the sleeve of the decoder, we may ask whether the encoder has any tricks of its own. The answer is yes and it is called self-attention. Like attention, self-attention tracks associations from the input sequence, but this time it is the encoder who keeps track of other items to achieve a better encoding. For instance, take the following input sentence:\", \"score\": 0.74785584}, {\"title\": \"Self - Attention in NLP - GeeksforGeeks\", \"url\": \"https://www.geeksforgeeks.org/nlp/self-attention-in-nlp/\", \"content\": \"As machine learning continues to grow the exploration of attention mechanisms is opening up new opportunities and changing the way models understand and process complex data.\\\\n\\\\n Comment \\\\n\\\\nMore info\\\\n\\\\nAdvertise with us\\\\n\\\\nK\\\\n\\\\nkartik\\\\n\\\\nFollow\\\\n\\\\n9\\\\n\\\\nImprove\\\\n\\\\nArticle Tags : \\\\n\\\\n   NLP\\\\n\\\\n### Similar Reads\", \"score\": 0.6682966}, {\"title\": \"Chapter 8 Attention and Self-Attention for NLP\", \"url\": \"https://slds-lmu.github.io/seminar_nlp_ss20/attention-and-self-attention-for-nlp.html\", \"content\": \"Wang, Sinong, Belinda Z. Li, Madian Khabsa, Han Fang, and Hao Ma. 2020. “Linformer: Self-Attention with Linear Complexity.”\\\\n\\\\nWeng, Lilian. 2018. “Attention? Attention!” Lilianweng.github.io/Lil-Log. .\\\\n\\\\nXu, Kelvin, Jimmy Ba, Ryan Kiros, Kyunghyun Cho, Aaron Courville, Ruslan Salakhudinov, Rich Zemel, and Yoshua Bengio. 2015. “Show, Attend and Tell: Neural Image Caption Generation with Visual Attention.” In International Conference on Machine Learning, 2048–57. [...] While Bahdanau, Cho, and Bengio (2014) were the first to use attention in neural machine translation,\\\\nLuong, Pham, and Manning (2015) were the first to explore different attention mechanisms and their impact on\\\\nNMT. Luong et al. also generalise the attention mechanism for the decoder which enables\\\\na quick switch between different attention functions.\\\\nBahdanau et al. only consider [...] Attention was in the beginning not directly developed for RNNs or even NLP.\\\\nAttention was first introduced in Graves, Wayne, and Danihelka (2014) with a content-based attention mechanism\\\\n(\\\\\\\\(\\\\\\\\text{score}(\\\\\\\\boldsymbol{s}\\\\\\\\_t, \\\\\\\\boldsymbol{h}\\\\\\\\_i) = \\\\\\\\text{cosine}[\\\\\\\\boldsymbol{s}\\\\\\\\_t, \\\\\\\\boldsymbol{h}\\\\\\\\_i]\\\\\\\\))\\\\nfor Neural Turing Machines. Their application for NLP related tasks were later developed by\\\\nLuong, Pham, and Manning (2015), Bahdanau, Cho, and Bengio (2014) and Xu et al. (2015).\", \"score\": 0.6607204}]', name='tavily_search_results_json', id='c30f01cc-94c1-4b0f-bf05-a58c4f358370', tool_call_id='call_JFVUg953bzsIfsCeub54YvCn', artifact={'query': 'Attention in machine learning', 'follow_up_questions': None, 'answer': None, 'images': [], 'results': [{'url': 'https://pmc.ncbi.nlm.nih.gov/articles/PMC7996841/', 'title': 'Attention Mechanisms and Their Applications to Complex Systems', 'content': 'Generally formulated, attention in machine learning is a sequential process in which a learning task is guided by a set of elements of the input source (or memory). This is achieved by integrating the attention value into the task. [...] Attention mechanisms have provided and will provide a paradigm shift in machine learning. Specifically, this change is from traditional large-scale vector transformations to more conscious processes (i.e., that focus only on a set of elements), e.g., decomposing a problem into a sequence of attention based reasoning tasks [13,30,31,32,33,34]. [...] Attention mechanisms have provided and will provide a paradigm shift in machine learning [11,12]. These mechanisms allow a model to focus only on a set of elements and to decompose a problem into a sequence of attention based reasoning tasks . Moreover, they can be applied to model complex systems in a flexible and promising way. When it comes to their application, information processing in the system and internal structure are crucial.', 'score': 0.9581988, 'raw_content': None}, {'url': 'https://en.wikipedia.org/wiki/Attention_(machine_learning)', 'title': 'Attention (machine learning) - Wikipedia', 'content': 'Attention is a machine learning method that determines the importance of each component in a sequence relative to the other components in that sequence. In natural language processing, importance is represented by \"soft\" weights assigned to each word in a sentence. More generally, attention encodes vectors called tokenembeddings across a fixed-width sequence that can range from tens to millions of tokens in size. [...] Inspired by ideas about attention in humans, the attention mechanism was developed to address the weaknesses of leveraging information from the hidden layers of recurrent neural networks. Recurrent neural networks favor more recent information contained in words at the end of a sentence, while information earlier in the sentence tends to be attenuated. Attention allows a token equal access to any part of a sentence directly, rather than only through the previous state.\\n\\nHistory\\n------- [...] Attention(A Q,B K,B V)=A Attention(Q,K,V){\\\\displaystyle {\\\\text{Attention}}(\\\\mathbf {A} \\\\mathbf {Q} ,\\\\mathbf {B} \\\\mathbf {K} ,\\\\mathbf {B} \\\\mathbf {V} )=\\\\mathbf {A} \\\\,{\\\\text{Attention}}(\\\\mathbf {Q} ,\\\\mathbf {K} ,\\\\mathbf {V} )}Image 31: {\\\\displaystyle {\\\\text{Attention}}(\\\\mathbf {A} \\\\mathbf {Q} ,\\\\mathbf {B} \\\\mathbf {K} ,\\\\mathbf {B} \\\\mathbf {V} )=\\\\mathbf {A} \\\\,{\\\\text{Attention}}(\\\\mathbf {Q} ,\\\\mathbf {K} ,\\\\mathbf {V} )}', 'score': 0.94956195, 'raw_content': None}, {'url': 'https://domino.ai/blog/transformers-self-attention-to-the-rescue', 'title': 'Transformers models in machine learning: self-attention to the rescue', 'content': 'Since the important information of the original sequence is carried in the context vector, we can see this as the most important part of the architecture. Similarly, it may be the cause of a \"traffic jam\" in the system. This is where the concept of attention comes into play. Originally proposed in 2015 by Minh-Thang Long, it enables your model to focus on the significant parts of the input sequence as required.\\n\\n## Paying Attention [...] As we can see, \"memory\" alone in the model (such as in an LSTM) may not be enough. We need \"attention\" to help further improve tasks such as machine translation be. Let us take a look at what attention does. [...] ## Looking Inwards - The Role of Self-Attention\\n\\nWhile attention is an important trick up the sleeve of the decoder, we may ask whether the encoder has any tricks of its own. The answer is yes and it is called self-attention. Like attention, self-attention tracks associations from the input sequence, but this time it is the encoder who keeps track of other items to achieve a better encoding. For instance, take the following input sentence:', 'score': 0.74785584, 'raw_content': None}, {'url': 'https://www.geeksforgeeks.org/nlp/self-attention-in-nlp/', 'title': 'Self - Attention in NLP - GeeksforGeeks', 'content': 'As machine learning continues to grow the exploration of attention mechanisms is opening up new opportunities and changing the way models understand and process complex data.\\n\\n Comment \\n\\nMore info\\n\\nAdvertise with us\\n\\nK\\n\\nkartik\\n\\nFollow\\n\\n9\\n\\nImprove\\n\\nArticle Tags : \\n\\n   NLP\\n\\n### Similar Reads', 'score': 0.6682966, 'raw_content': None}, {'url': 'https://slds-lmu.github.io/seminar_nlp_ss20/attention-and-self-attention-for-nlp.html', 'title': 'Chapter 8 Attention and Self-Attention for NLP', 'content': 'Wang, Sinong, Belinda Z. Li, Madian Khabsa, Han Fang, and Hao Ma. 2020. “Linformer: Self-Attention with Linear Complexity.”\\n\\nWeng, Lilian. 2018. “Attention? Attention!” Lilianweng.github.io/Lil-Log. .\\n\\nXu, Kelvin, Jimmy Ba, Ryan Kiros, Kyunghyun Cho, Aaron Courville, Ruslan Salakhudinov, Rich Zemel, and Yoshua Bengio. 2015. “Show, Attend and Tell: Neural Image Caption Generation with Visual Attention.” In International Conference on Machine Learning, 2048–57. [...] While Bahdanau, Cho, and Bengio (2014) were the first to use attention in neural machine translation,\\nLuong, Pham, and Manning (2015) were the first to explore different attention mechanisms and their impact on\\nNMT. Luong et al. also generalise the attention mechanism for the decoder which enables\\na quick switch between different attention functions.\\nBahdanau et al. only consider [...] Attention was in the beginning not directly developed for RNNs or even NLP.\\nAttention was first introduced in Graves, Wayne, and Danihelka (2014) with a content-based attention mechanism\\n(\\\\(\\\\text{score}(\\\\boldsymbol{s}\\\\_t, \\\\boldsymbol{h}\\\\_i) = \\\\text{cosine}[\\\\boldsymbol{s}\\\\_t, \\\\boldsymbol{h}\\\\_i]\\\\))\\nfor Neural Turing Machines. Their application for NLP related tasks were later developed by\\nLuong, Pham, and Manning (2015), Bahdanau, Cho, and Bengio (2014) and Xu et al. (2015).', 'score': 0.6607204, 'raw_content': None}], 'response_time': 3.67})]\n",
            "\n",
            "\n",
            "\n",
            "Receiving update from node: 'agent'\n",
            "[AIMessage(content=\"LoRA (Low-Rank Adaptation) is a machine learning technique designed to efficiently adapt large pre-trained models to specific tasks or domains. Instead of retraining the entire model, LoRA adds lightweight, low-rank matrices to the original model, which contain new weights that modify the model's outputs. This approach significantly reduces computational requirements and training time, making it easier to fine-tune large models for particular applications. LoRA is especially useful for customizing models like language models or vision transformers without the need for extensive resources.\\n\\nTim Dettmers is a researcher and assistant professor known for his work in making foundation models more accessible and resource-efficient. His research focuses on open-source AI systems, on-device machine learning, hierarchical architectures for large language models, and scientific automation. He has developed tools like bitsandbytes to help reduce the resource requirements for training and deploying large models. Dettmers has received multiple awards for his contributions to AI research.\\n\\nAttention in machine learning refers to a mechanism that allows models to focus on specific parts of the input data when making predictions. It assigns different weights to different elements in a sequence, enabling the model to prioritize relevant information. This concept is inspired by human attention and has revolutionized natural language processing and other fields by improving the ability of models to handle long sequences and complex data. Attention mechanisms are fundamental to transformer architectures, which underpin many state-of-the-art models like GPT and BERT.\", additional_kwargs={'refusal': None}, response_metadata={'token_usage': {'completion_tokens': 286, 'prompt_tokens': 4658, 'total_tokens': 4944, 'completion_tokens_details': {'accepted_prediction_tokens': 0, 'audio_tokens': 0, 'reasoning_tokens': 0, 'rejected_prediction_tokens': 0}, 'prompt_tokens_details': {'audio_tokens': 0, 'cached_tokens': 0}}, 'model_name': 'gpt-4.1-nano-2025-04-14', 'system_fingerprint': 'fp_38343a2f8f', 'id': 'chatcmpl-C2WfPgiJAs92PHaZbT2Namj5x3608', 'service_tier': 'default', 'finish_reason': 'stop', 'logprobs': None}, id='run--49333779-b649-40ad-a75b-e8b217d57ab4-0', usage_metadata={'input_tokens': 4658, 'output_tokens': 286, 'total_tokens': 4944, 'input_token_details': {'audio': 0, 'cache_read': 0}, 'output_token_details': {'audio': 0, 'reasoning': 0}})]\n",
            "\n",
            "\n",
            "\n"
          ]
        }
      ],
      "source": [
        "inputs = {\"messages\" : [HumanMessage(content=\"Related to machine learning, what is LoRA? Also, who is Tim Dettmers? Also, what is Attention?\")]}\n",
        "\n",
        "async for chunk in agent_with_helpfulness_check.astream(inputs, stream_mode=\"updates\"):\n",
        "    for node, values in chunk.items():\n",
        "        print(f\"Receiving update from node: '{node}'\")\n",
        "        print(values[\"messages\"])\n",
        "        print(\"\\n\\n\")"
      ]
    },
    {
      "cell_type": "markdown",
      "metadata": {
        "id": "yVmZPs6lnpsM"
      },
      "source": [
        "### Task 4: LangGraph for the \"Patterns\" of GenAI\n",
        "\n",
        "Let's ask our system about the 4 patterns of Generative AI:\n",
        "\n",
        "1. Prompt Engineering\n",
        "2. RAG\n",
        "3. Fine-tuning\n",
        "4. Agents"
      ]
    },
    {
      "cell_type": "code",
      "execution_count": 31,
      "metadata": {
        "id": "ZoLl7GlXoae-"
      },
      "outputs": [],
      "source": [
        "patterns = [\"prompt engineering\", \"RAG\", \"fine-tuning\", \"LLM-based agents\"]"
      ]
    },
    {
      "cell_type": "code",
      "execution_count": 35,
      "metadata": {
        "colab": {
          "base_uri": "https://localhost:8080/"
        },
        "id": "Zkh0YJuCp3Zl",
        "outputId": "d847426e-71b3-47e6-b1ae-351a78d68d1e"
      },
      "outputs": [
        {
          "name": "stdout",
          "output_type": "stream",
          "text": [
            "Prompt engineering is the process of designing and refining prompts to effectively communicate with AI language models, such as GPT, to obtain desired responses. It involves crafting prompts that are clear, specific, and contextually appropriate to guide the AI's output in a useful and accurate manner.\n",
            "\n",
            "Prompt engineering has gained significant prominence with the rise of large language models (LLMs) like GPT-3, which were released around 2020. As these models became more capable and widely used, the importance of effectively interacting with them through well-designed prompts also grew. The term and practice of prompt engineering started to break onto the scene around 2021-2022, coinciding with the increasing adoption of LLMs in various applications and the recognition that prompt design could greatly influence the quality of AI-generated outputs.\n",
            "\n",
            "Would you like me to find more detailed or recent information about the history and development of prompt engineering?\n",
            "\n",
            "\n",
            "\n",
            "RAG, which stands for Retrieval-Augmented Generation, is a technique in natural language processing that combines pre-trained language models with information retrieval systems. This approach allows models to access and incorporate external knowledge from large document collections or databases during the generation process, leading to more accurate and contextually relevant responses.\n",
            "\n",
            "RAG was introduced by Facebook AI Research (FAIR) in a paper published in 2020. It marked a significant advancement in the field by enabling language models to effectively retrieve relevant information and generate more informed and precise outputs, especially for tasks requiring factual accuracy and up-to-date knowledge.\n",
            "\n",
            "Would you like a more detailed explanation of how RAG works or its applications?\n",
            "\n",
            "\n",
            "\n",
            "Fine-tuning is a process in machine learning where a pre-trained model is further trained on a specific dataset to adapt it to a particular task or domain. This approach leverages the knowledge the model has already acquired during its initial training on large, general datasets, and then refines it to improve performance on specialized tasks. Fine-tuning typically involves adjusting the model's weights through additional training epochs on the new dataset, often with a smaller learning rate to make subtle adjustments.\n",
            "\n",
            "Fine-tuning has been a common practice in machine learning for many years, especially in fields like natural language processing and computer vision. However, it gained significant prominence and broke onto the mainstream scene with the advent of large pre-trained models such as BERT (Bidirectional Encoder Representations from Transformers) in 2018, and later with models like GPT (Generative Pre-trained Transformer) series. These models demonstrated that starting with a large, pre-trained model and fine-tuning it for specific tasks could achieve state-of-the-art results, revolutionizing how AI models are developed and deployed.\n",
            "\n",
            "Would you like more detailed information on the history or specific techniques involved in fine-tuning?\n",
            "\n",
            "\n",
            "\n",
            "LLM-based agents are intelligent systems that leverage large language models (LLMs) to perform a variety of tasks, such as understanding natural language, generating human-like responses, and making decisions or taking actions based on the input they receive. These agents can be used in applications like chatbots, virtual assistants, automated customer support, and more complex decision-making systems.\n",
            "\n",
            "The concept of LLM-based agents gained significant attention and broke onto the scene around 2020-2021, coinciding with the development and release of large-scale language models like OpenAI's GPT-3 in 2020. GPT-3's impressive capabilities demonstrated the potential of large language models to serve as the core component of autonomous agents capable of performing a wide range of tasks with minimal task-specific training.\n",
            "\n",
            "Since then, the field has rapidly evolved, with many organizations developing more sophisticated LLM-based agents that incorporate additional functionalities such as reasoning, memory, and multi-modal capabilities. The release of newer models like GPT-4 and the integration of LLMs into various applications have further accelerated this trend.\n",
            "\n",
            "Would you like me to find more recent developments or specific details about the timeline?\n",
            "\n",
            "\n",
            "\n"
          ]
        }
      ],
      "source": [
        "for pattern in patterns:\n",
        "  what_is_string = f\"What is {pattern} and when did it break onto the scene??\"\n",
        "  inputs = {\"messages\" : [HumanMessage(content=what_is_string)]}\n",
        "  messages = agent_with_helpfulness_check.invoke(inputs)\n",
        "  print(messages[\"messages\"][-1].content)\n",
        "  print(\"\\n\\n\")"
      ]
    }
  ],
  "metadata": {
    "colab": {
      "provenance": []
    },
    "kernelspec": {
      "display_name": "05-our-first-agent-with-langgraph",
      "language": "python",
      "name": "python3"
    },
    "language_info": {
      "codemirror_mode": {
        "name": "ipython",
        "version": 3
      },
      "file_extension": ".py",
      "mimetype": "text/x-python",
      "name": "python",
      "nbconvert_exporter": "python",
      "pygments_lexer": "ipython3",
      "version": "3.13.5"
    }
  },
  "nbformat": 4,
  "nbformat_minor": 0
}
